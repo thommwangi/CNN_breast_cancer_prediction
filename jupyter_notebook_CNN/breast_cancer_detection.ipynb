{
 "cells": [
  {
   "cell_type": "code",
   "execution_count": 62,
   "metadata": {
    "colab": {
     "base_uri": "https://localhost:8080/",
     "height": 34
    },
    "id": "JIVLJzWrkBJp",
    "outputId": "33d10f16-aad4-4b9e-da10-4880cb67acf8"
   },
   "outputs": [],
   "source": [
    "import numpy as np\n",
    "import pandas as pd\n",
    "import cv2\n",
    "import tensorflow as tf\n",
    "import random\n",
    "import matplotlib.pyplot as plt\n",
    "import matplotlib.dates as mdates\n",
    "from sklearn.model_selection import train_test_split\n",
    "from pandas.plotting import register_matplotlib_converters\n",
    "register_matplotlib_converters()\n",
    "%matplotlib inline\n",
    "from sklearn.datasets import load_files       \n",
    "from keras.utils import np_utils\n",
    "from keras.preprocessing.image import ImageDataGenerator\n",
    "from keras.preprocessing.image import ImageDataGenerator\n",
    "from keras.models import Sequential\n",
    "from keras.layers import Conv2D, MaxPooling2D\n",
    "from keras.layers import Activation, Dropout, Flatten, Dense\n",
    "from keras import backend as K\n",
    "from keras.callbacks import EarlyStopping, ModelCheckpoint\n",
    "import numpy as np\n",
    "from glob import glob\n",
    "import keras\n",
    "from keras.preprocessing import image                  \n",
    "from tqdm import tqdm\n",
    "import os, os.path\n",
    "import imageio\n",
    "from sklearn.metrics import confusion_matrix, f1_score\n",
    "from sklearn.utils import class_weight"
   ]
  },
  {
   "cell_type": "markdown",
   "metadata": {},
   "source": [
    "<h1>DATA PREPROCESSING</h1>"
   ]
  },
  {
   "cell_type": "code",
   "execution_count": 2,
   "metadata": {
    "colab": {
     "base_uri": "https://localhost:8080/",
     "height": 122
    },
    "id": "oNiBqJb3kLeB",
    "outputId": "680e04c0-4343-4f67-c1da-456077b6b348"
   },
   "outputs": [],
   "source": [
    "os.chdir('C:/Users/mwangit/Desktop/projects/datasetss/dataset')"
   ]
  },
  {
   "cell_type": "code",
   "execution_count": 3,
   "metadata": {
    "id": "mWXg31w_khJk"
   },
   "outputs": [],
   "source": [
    "#project_dir = \"/content/gdrive/My Drive/Data Scientist/breast_cancer\"\n",
    "train_path='C:/Users/mwangit/Desktop/projects/datasetss/dataset/train'\n",
    "test_path='C:/Users/mwangit/Desktop/projects/datasetss/dataset/test'"
   ]
  },
  {
   "cell_type": "code",
   "execution_count": 4,
   "metadata": {
    "id": "voAyLazfld9E"
   },
   "outputs": [],
   "source": [
    "# project_dir = \".\"\n",
    "#data_dir = project_dir + \"/data\"\n",
    "#image_source_dir = data_dir + \"/originals\""
   ]
  },
  {
   "cell_type": "code",
   "execution_count": 5,
   "metadata": {
    "id": "FYev3E8qkBJu"
   },
   "outputs": [],
   "source": [
    "#train data preprocessing\n",
    "CATEGORIES=[\"benign\",\"malignant\"]\n",
    "img_size=150\n",
    "train_data=[]\n",
    "\n",
    "for cat in CATEGORIES:\n",
    "    path=os.path.join(train_path,cat)\n",
    "    label=CATEGORIES.index(cat)\n",
    "    for img in os.listdir(path):\n",
    "        img_path=os.path.join(path,img)\n",
    "        img_array=cv2.imread(img_path)\n",
    "        img_array=cv2.resize(img_array , (img_size,img_size))\n",
    "        #plt.imshow(img_array )\n",
    "        train_data.append([img_array,label])"
   ]
  },
  {
   "cell_type": "code",
   "execution_count": 9,
   "metadata": {
    "id": "Zh7XtDd9kBJ2"
   },
   "outputs": [],
   "source": [
    "#len(train_data)\n",
    "random.shuffle(train_data)"
   ]
  },
  {
   "cell_type": "markdown",
   "metadata": {
    "id": "W6rNm_SOkBJ6"
   },
   "source": [
    "<h1>CHECKING THE SIZE OF EACH CATEGORY OF THE DATASET</h1>"
   ]
  },
  {
   "cell_type": "markdown",
   "metadata": {
    "id": "U8UAM2WQkBJ7"
   },
   "source": [
    "Benign"
   ]
  },
  {
   "cell_type": "code",
   "execution_count": 10,
   "metadata": {
    "colab": {
     "base_uri": "https://localhost:8080/",
     "height": 34
    },
    "id": "rmJY_-6ukBJ8",
    "outputId": "6b5e1b94-1446-48f0-dd6d-97a1c0bd4770"
   },
   "outputs": [
    {
     "data": {
      "text/plain": [
       "9206"
      ]
     },
     "execution_count": 10,
     "metadata": {},
     "output_type": "execute_result"
    }
   ],
   "source": [
    "len([name for name in os.listdir(train_path + \"/benign/\") if os.path.isfile(os.path.join(train_path + \"/benign/\", name))])"
   ]
  },
  {
   "cell_type": "markdown",
   "metadata": {
    "id": "HcuFZj9bkBKB"
   },
   "source": [
    "Malign"
   ]
  },
  {
   "cell_type": "code",
   "execution_count": 11,
   "metadata": {
    "colab": {
     "base_uri": "https://localhost:8080/",
     "height": 34
    },
    "id": "T3l5rEA3kBKC",
    "outputId": "3351d4c6-5716-4964-ed7c-4387f01ecd08"
   },
   "outputs": [
    {
     "data": {
      "text/plain": [
       "12080"
      ]
     },
     "execution_count": 11,
     "metadata": {},
     "output_type": "execute_result"
    }
   ],
   "source": [
    "len([name for name in os.listdir(train_path + \"/malignant/\") if os.path.isfile(os.path.join(train_path + \"/malignant/\", name))])"
   ]
  },
  {
   "cell_type": "markdown",
   "metadata": {},
   "source": [
    "<h1>CONVERTING PROCESSED DATA TO NUMPY ARRAY</h1>"
   ]
  },
  {
   "cell_type": "code",
   "execution_count": 12,
   "metadata": {
    "id": "qE0G3GAukBKF"
   },
   "outputs": [],
   "source": [
    "#image_dest_dir = data_dir + \"/keras\"\n",
    "#saving the data \n",
    "X_train=[]\n",
    "y_train=[]"
   ]
  },
  {
   "cell_type": "code",
   "execution_count": 13,
   "metadata": {
    "colab": {
     "base_uri": "https://localhost:8080/",
     "height": 34
    },
    "id": "jNIrKTRVkBKI",
    "outputId": "df56e76b-8b13-4398-b5b0-f588f22da2eb"
   },
   "outputs": [],
   "source": [
    "for features, label in train_data:\n",
    "    X_train.append(features)\n",
    "    y_train.append(label)\n",
    "    \n",
    "X_train=np.array(X_train) \n",
    "y_train=np.array(y_train)"
   ]
  },
  {
   "cell_type": "code",
   "execution_count": 15,
   "metadata": {},
   "outputs": [
    {
     "data": {
      "text/plain": [
       "array([0, 0, 0, 0, 1, 1, 1, 1, 0, 1, 0, 1, 1, 1, 0, 0, 0, 1, 1, 0, 1, 1,\n",
       "       0, 0, 1, 0, 0, 0, 1, 1, 1, 0, 1, 1, 1, 0, 0, 1, 0, 0, 1, 0, 1, 0,\n",
       "       1, 1, 1, 0, 1, 0, 0, 0, 1, 0, 1, 1, 0, 1, 1, 1, 1, 0, 1, 1, 0, 0,\n",
       "       0, 0, 0, 0, 1, 0, 0, 0, 1, 0, 0, 0, 1, 1, 1, 1, 1, 1, 1, 1, 1, 0,\n",
       "       1, 0, 0, 0, 1, 0, 1, 1, 0, 0, 1, 1])"
      ]
     },
     "execution_count": 15,
     "metadata": {},
     "output_type": "execute_result"
    }
   ],
   "source": [
    "y_train[:100]"
   ]
  },
  {
   "cell_type": "markdown",
   "metadata": {},
   "source": [
    "<h1>NORMALIZING DATASET FOR FASTER PROCESSING</h1>"
   ]
  },
  {
   "cell_type": "code",
   "execution_count": 16,
   "metadata": {},
   "outputs": [
    {
     "data": {
      "text/plain": [
       "array([[[[0.        , 0.        , 0.        ],\n",
       "         [0.        , 0.        , 0.        ],\n",
       "         [0.        , 0.        , 0.        ],\n",
       "         ...,\n",
       "         [0.        , 0.        , 0.        ],\n",
       "         [0.        , 0.        , 0.        ],\n",
       "         [0.        , 0.        , 0.        ]],\n",
       "\n",
       "        [[0.        , 0.        , 0.        ],\n",
       "         [0.        , 0.        , 0.        ],\n",
       "         [0.        , 0.        , 0.        ],\n",
       "         ...,\n",
       "         [0.        , 0.        , 0.        ],\n",
       "         [0.        , 0.        , 0.        ],\n",
       "         [0.        , 0.        , 0.        ]],\n",
       "\n",
       "        [[0.        , 0.        , 0.        ],\n",
       "         [0.        , 0.        , 0.        ],\n",
       "         [0.        , 0.        , 0.        ],\n",
       "         ...,\n",
       "         [0.        , 0.        , 0.        ],\n",
       "         [0.        , 0.        , 0.        ],\n",
       "         [0.        , 0.        , 0.        ]],\n",
       "\n",
       "        ...,\n",
       "\n",
       "        [[0.        , 0.        , 0.        ],\n",
       "         [0.        , 0.        , 0.        ],\n",
       "         [0.        , 0.        , 0.        ],\n",
       "         ...,\n",
       "         [0.        , 0.        , 0.        ],\n",
       "         [0.        , 0.        , 0.        ],\n",
       "         [0.        , 0.        , 0.        ]],\n",
       "\n",
       "        [[0.        , 0.        , 0.        ],\n",
       "         [0.        , 0.        , 0.        ],\n",
       "         [0.        , 0.        , 0.        ],\n",
       "         ...,\n",
       "         [0.        , 0.        , 0.        ],\n",
       "         [0.        , 0.        , 0.        ],\n",
       "         [0.        , 0.        , 0.        ]],\n",
       "\n",
       "        [[0.        , 0.        , 0.        ],\n",
       "         [0.        , 0.        , 0.        ],\n",
       "         [0.        , 0.        , 0.        ],\n",
       "         ...,\n",
       "         [0.        , 0.        , 0.        ],\n",
       "         [0.        , 0.        , 0.        ],\n",
       "         [0.        , 0.        , 0.        ]]],\n",
       "\n",
       "\n",
       "       [[[0.        , 0.        , 0.        ],\n",
       "         [0.        , 0.        , 0.        ],\n",
       "         [0.        , 0.        , 0.        ],\n",
       "         ...,\n",
       "         [0.        , 0.        , 0.        ],\n",
       "         [0.        , 0.        , 0.        ],\n",
       "         [0.        , 0.        , 0.        ]],\n",
       "\n",
       "        [[0.        , 0.        , 0.        ],\n",
       "         [0.        , 0.        , 0.        ],\n",
       "         [0.        , 0.        , 0.        ],\n",
       "         ...,\n",
       "         [0.        , 0.        , 0.        ],\n",
       "         [0.        , 0.        , 0.        ],\n",
       "         [0.        , 0.        , 0.        ]],\n",
       "\n",
       "        [[0.        , 0.        , 0.        ],\n",
       "         [0.        , 0.        , 0.        ],\n",
       "         [0.        , 0.        , 0.        ],\n",
       "         ...,\n",
       "         [0.        , 0.        , 0.        ],\n",
       "         [0.        , 0.        , 0.        ],\n",
       "         [0.        , 0.        , 0.        ]],\n",
       "\n",
       "        ...,\n",
       "\n",
       "        [[0.        , 0.        , 0.        ],\n",
       "         [0.        , 0.        , 0.        ],\n",
       "         [0.        , 0.        , 0.        ],\n",
       "         ...,\n",
       "         [0.        , 0.        , 0.        ],\n",
       "         [0.        , 0.        , 0.        ],\n",
       "         [0.        , 0.        , 0.        ]],\n",
       "\n",
       "        [[0.        , 0.        , 0.        ],\n",
       "         [0.        , 0.        , 0.        ],\n",
       "         [0.        , 0.        , 0.        ],\n",
       "         ...,\n",
       "         [0.        , 0.        , 0.        ],\n",
       "         [0.        , 0.        , 0.        ],\n",
       "         [0.        , 0.        , 0.        ]],\n",
       "\n",
       "        [[0.        , 0.        , 0.        ],\n",
       "         [0.        , 0.        , 0.        ],\n",
       "         [0.        , 0.        , 0.        ],\n",
       "         ...,\n",
       "         [0.        , 0.        , 0.        ],\n",
       "         [0.        , 0.        , 0.        ],\n",
       "         [0.        , 0.        , 0.        ]]],\n",
       "\n",
       "\n",
       "       [[[0.01960784, 0.01960784, 0.01960784],\n",
       "         [0.01960784, 0.01960784, 0.01960784],\n",
       "         [0.01960784, 0.01960784, 0.01960784],\n",
       "         ...,\n",
       "         [0.88627451, 0.88627451, 0.88627451],\n",
       "         [0.94117647, 0.94117647, 0.94117647],\n",
       "         [0.97254902, 0.97254902, 0.97254902]],\n",
       "\n",
       "        [[0.01960784, 0.01960784, 0.01960784],\n",
       "         [0.01960784, 0.01960784, 0.01960784],\n",
       "         [0.01960784, 0.01960784, 0.01960784],\n",
       "         ...,\n",
       "         [0.80784314, 0.80784314, 0.80784314],\n",
       "         [0.82352941, 0.82352941, 0.82352941],\n",
       "         [0.84705882, 0.84705882, 0.84705882]],\n",
       "\n",
       "        [[0.01960784, 0.01960784, 0.01960784],\n",
       "         [0.01960784, 0.01960784, 0.01960784],\n",
       "         [0.01568627, 0.01568627, 0.01568627],\n",
       "         ...,\n",
       "         [0.8       , 0.8       , 0.8       ],\n",
       "         [0.80392157, 0.80392157, 0.80392157],\n",
       "         [0.80784314, 0.80784314, 0.80784314]],\n",
       "\n",
       "        ...,\n",
       "\n",
       "        [[0.01960784, 0.01960784, 0.01960784],\n",
       "         [0.01568627, 0.01568627, 0.01568627],\n",
       "         [0.01568627, 0.01568627, 0.01568627],\n",
       "         ...,\n",
       "         [0.5372549 , 0.5372549 , 0.5372549 ],\n",
       "         [0.56470588, 0.56470588, 0.56470588],\n",
       "         [0.58431373, 0.58431373, 0.58431373]],\n",
       "\n",
       "        [[0.01960784, 0.01960784, 0.01960784],\n",
       "         [0.01568627, 0.01568627, 0.01568627],\n",
       "         [0.01568627, 0.01568627, 0.01568627],\n",
       "         ...,\n",
       "         [0.53333333, 0.53333333, 0.53333333],\n",
       "         [0.56078431, 0.56078431, 0.56078431],\n",
       "         [0.57647059, 0.57647059, 0.57647059]],\n",
       "\n",
       "        [[0.01960784, 0.01960784, 0.01960784],\n",
       "         [0.01960784, 0.01960784, 0.01960784],\n",
       "         [0.01960784, 0.01960784, 0.01960784],\n",
       "         ...,\n",
       "         [0.55686275, 0.55686275, 0.55686275],\n",
       "         [0.56862745, 0.56862745, 0.56862745],\n",
       "         [0.58039216, 0.58039216, 0.58039216]]],\n",
       "\n",
       "\n",
       "       ...,\n",
       "\n",
       "\n",
       "       [[[0.5254902 , 0.5254902 , 0.5254902 ],\n",
       "         [0.41568627, 0.41568627, 0.41568627],\n",
       "         [0.40392157, 0.40392157, 0.40392157],\n",
       "         ...,\n",
       "         [0.        , 0.        , 0.        ],\n",
       "         [0.        , 0.        , 0.        ],\n",
       "         [0.        , 0.        , 0.        ]],\n",
       "\n",
       "        [[0.51764706, 0.51764706, 0.51764706],\n",
       "         [0.41176471, 0.41176471, 0.41176471],\n",
       "         [0.39215686, 0.39215686, 0.39215686],\n",
       "         ...,\n",
       "         [0.        , 0.        , 0.        ],\n",
       "         [0.        , 0.        , 0.        ],\n",
       "         [0.        , 0.        , 0.        ]],\n",
       "\n",
       "        [[0.52156863, 0.52156863, 0.52156863],\n",
       "         [0.41568627, 0.41568627, 0.41568627],\n",
       "         [0.38823529, 0.38823529, 0.38823529],\n",
       "         ...,\n",
       "         [0.        , 0.        , 0.        ],\n",
       "         [0.        , 0.        , 0.        ],\n",
       "         [0.        , 0.        , 0.        ]],\n",
       "\n",
       "        ...,\n",
       "\n",
       "        [[0.        , 0.        , 0.        ],\n",
       "         [0.        , 0.        , 0.        ],\n",
       "         [0.        , 0.        , 0.        ],\n",
       "         ...,\n",
       "         [0.        , 0.        , 0.        ],\n",
       "         [0.        , 0.        , 0.        ],\n",
       "         [0.        , 0.        , 0.        ]],\n",
       "\n",
       "        [[0.        , 0.        , 0.        ],\n",
       "         [0.        , 0.        , 0.        ],\n",
       "         [0.        , 0.        , 0.        ],\n",
       "         ...,\n",
       "         [0.        , 0.        , 0.        ],\n",
       "         [0.        , 0.        , 0.        ],\n",
       "         [0.        , 0.        , 0.        ]],\n",
       "\n",
       "        [[0.        , 0.        , 0.        ],\n",
       "         [0.        , 0.        , 0.        ],\n",
       "         [0.        , 0.        , 0.        ],\n",
       "         ...,\n",
       "         [0.        , 0.        , 0.        ],\n",
       "         [0.        , 0.        , 0.        ],\n",
       "         [0.        , 0.        , 0.        ]]],\n",
       "\n",
       "\n",
       "       [[[0.36862745, 0.36862745, 0.36862745],\n",
       "         [0.35686275, 0.35686275, 0.35686275],\n",
       "         [0.34509804, 0.34509804, 0.34509804],\n",
       "         ...,\n",
       "         [0.73333333, 0.73333333, 0.73333333],\n",
       "         [0.74509804, 0.74509804, 0.74509804],\n",
       "         [0.83921569, 0.83921569, 0.83921569]],\n",
       "\n",
       "        [[0.10588235, 0.10588235, 0.10588235],\n",
       "         [0.10588235, 0.10588235, 0.10588235],\n",
       "         [0.10588235, 0.10588235, 0.10588235],\n",
       "         ...,\n",
       "         [0.14509804, 0.14509804, 0.14509804],\n",
       "         [0.14509804, 0.14509804, 0.14509804],\n",
       "         [0.20392157, 0.20392157, 0.20392157]],\n",
       "\n",
       "        [[0.09411765, 0.09411765, 0.09411765],\n",
       "         [0.09803922, 0.09803922, 0.09803922],\n",
       "         [0.09803922, 0.09803922, 0.09803922],\n",
       "         ...,\n",
       "         [0.10588235, 0.10588235, 0.10588235],\n",
       "         [0.10196078, 0.10196078, 0.10196078],\n",
       "         [0.11372549, 0.11372549, 0.11372549]],\n",
       "\n",
       "        ...,\n",
       "\n",
       "        [[0.        , 0.        , 0.        ],\n",
       "         [0.        , 0.        , 0.        ],\n",
       "         [0.        , 0.        , 0.        ],\n",
       "         ...,\n",
       "         [0.05882353, 0.05882353, 0.05882353],\n",
       "         [0.05882353, 0.05882353, 0.05882353],\n",
       "         [0.0627451 , 0.0627451 , 0.0627451 ]],\n",
       "\n",
       "        [[0.        , 0.        , 0.        ],\n",
       "         [0.        , 0.        , 0.        ],\n",
       "         [0.        , 0.        , 0.        ],\n",
       "         ...,\n",
       "         [0.05882353, 0.05882353, 0.05882353],\n",
       "         [0.05882353, 0.05882353, 0.05882353],\n",
       "         [0.06666667, 0.06666667, 0.06666667]],\n",
       "\n",
       "        [[0.        , 0.        , 0.        ],\n",
       "         [0.        , 0.        , 0.        ],\n",
       "         [0.        , 0.        , 0.        ],\n",
       "         ...,\n",
       "         [0.0627451 , 0.0627451 , 0.0627451 ],\n",
       "         [0.0627451 , 0.0627451 , 0.0627451 ],\n",
       "         [0.06666667, 0.06666667, 0.06666667]]],\n",
       "\n",
       "\n",
       "       [[[0.        , 0.        , 0.        ],\n",
       "         [0.        , 0.        , 0.        ],\n",
       "         [0.        , 0.        , 0.        ],\n",
       "         ...,\n",
       "         [0.        , 0.        , 0.        ],\n",
       "         [0.        , 0.        , 0.        ],\n",
       "         [0.        , 0.        , 0.        ]],\n",
       "\n",
       "        [[0.        , 0.        , 0.        ],\n",
       "         [0.        , 0.        , 0.        ],\n",
       "         [0.        , 0.        , 0.        ],\n",
       "         ...,\n",
       "         [0.        , 0.        , 0.        ],\n",
       "         [0.        , 0.        , 0.        ],\n",
       "         [0.        , 0.        , 0.        ]],\n",
       "\n",
       "        [[0.        , 0.        , 0.        ],\n",
       "         [0.        , 0.        , 0.        ],\n",
       "         [0.        , 0.        , 0.        ],\n",
       "         ...,\n",
       "         [0.        , 0.        , 0.        ],\n",
       "         [0.        , 0.        , 0.        ],\n",
       "         [0.        , 0.        , 0.        ]],\n",
       "\n",
       "        ...,\n",
       "\n",
       "        [[0.        , 0.        , 0.        ],\n",
       "         [0.        , 0.        , 0.        ],\n",
       "         [0.        , 0.        , 0.        ],\n",
       "         ...,\n",
       "         [0.        , 0.        , 0.        ],\n",
       "         [0.        , 0.        , 0.        ],\n",
       "         [0.        , 0.        , 0.        ]],\n",
       "\n",
       "        [[0.        , 0.        , 0.        ],\n",
       "         [0.        , 0.        , 0.        ],\n",
       "         [0.        , 0.        , 0.        ],\n",
       "         ...,\n",
       "         [0.        , 0.        , 0.        ],\n",
       "         [0.        , 0.        , 0.        ],\n",
       "         [0.        , 0.        , 0.        ]],\n",
       "\n",
       "        [[0.        , 0.        , 0.        ],\n",
       "         [0.        , 0.        , 0.        ],\n",
       "         [0.        , 0.        , 0.        ],\n",
       "         ...,\n",
       "         [0.        , 0.        , 0.        ],\n",
       "         [0.        , 0.        , 0.        ],\n",
       "         [0.        , 0.        , 0.        ]]]])"
      ]
     },
     "execution_count": 16,
     "metadata": {},
     "output_type": "execute_result"
    }
   ],
   "source": [
    "X_train=X_train/255\n",
    "#X_train"
   ]
  },
  {
   "cell_type": "code",
   "execution_count": 23,
   "metadata": {
    "colab": {
     "base_uri": "https://localhost:8080/",
     "height": 34
    },
    "id": "yK4eA0QNkBKb",
    "outputId": "99ede98e-3f32-450f-ce0f-e041303ed337"
   },
   "outputs": [
    {
     "data": {
      "text/plain": [
       "(21286, 150, 150, 3)"
      ]
     },
     "execution_count": 23,
     "metadata": {},
     "output_type": "execute_result"
    }
   ],
   "source": [
    "X_train.shape"
   ]
  },
  {
   "cell_type": "markdown",
   "metadata": {},
   "source": [
    "<h1>DEFINING PERFORMANCE METRICS USED TO ANALYSE THE MODEL AND CREATING THE MODEL</h1>"
   ]
  },
  {
   "cell_type": "code",
   "execution_count": 25,
   "metadata": {
    "id": "z62auWl_kBKe"
   },
   "outputs": [],
   "source": [
    "def sensitivity(y_true, y_pred):\n",
    "  true_positives = K.sum(K.round(K.clip(y_true * y_pred, 0, 1)))\n",
    "  possible_positives = K.sum(K.round(K.clip(y_true, 0, 1)))\n",
    "  return true_positives / (possible_positives + K.epsilon())\n",
    "\n",
    "def specificity(y_true, y_pred):\n",
    "  true_negatives = K.sum(K.round(K.clip((1-y_true) * (1-y_pred), 0, 1)))\n",
    "  possible_negatives = K.sum(K.round(K.clip(1-y_true, 0, 1)))\n",
    "  return true_negatives / (possible_negatives + K.epsilon())\n",
    "\n",
    "def fmed(y_true, y_pred):\n",
    "  spec = specificity(y_true, y_pred)\n",
    "  sens = sensitivity(y_true, y_pred)\n",
    "  fmed = 2 * (spec * sens)/(spec+sens+K.epsilon())\n",
    "  return fmed\n",
    "\n",
    "def f1(y_true, y_pred):\n",
    "  true_positives = K.sum(K.round(K.clip(y_true * y_pred, 0, 1)))\n",
    "  possible_positives = K.sum(K.round(K.clip(y_true, 0, 1)))\n",
    "  predicted_positives = K.sum(K.round(K.clip(y_pred, 0, 1)))\n",
    "  precision = true_positives / (predicted_positives + K.epsilon())\n",
    "  recall = true_positives / (possible_positives + K.epsilon())\n",
    "  f1_val = 2*(precision*recall)/(precision+recall+K.epsilon())\n",
    "  return f1_val\n",
    "\n",
    "def generate_model(opt=keras.optimizers.Adam()):\n",
    "    \n",
    "    model = Sequential()\n",
    "    model.add(Conv2D(64, (3, 3), input_shape=X_train.shape[1:]))\n",
    "    model.add(Activation('relu'))\n",
    "    model.add(MaxPooling2D(pool_size=(2, 2)))\n",
    "\n",
    "    \n",
    "    model.add(Conv2D(64, (3,3)))\n",
    "    model.add(Activation('relu'))\n",
    "    model.add(MaxPooling2D(pool_size=(2, 2)))\n",
    "\n",
    "\n",
    "    model.add(Conv2D(64, (3,3)))\n",
    "    model.add(Activation('relu'))\n",
    "    model.add(MaxPooling2D(pool_size=(2, 2)))\n",
    "\n",
    "\n",
    "    model.add(Flatten())\n",
    "    model.add(Dense(64))\n",
    "    model.add(Activation('relu'))\n",
    "    model.add(Dropout(0.5))\n",
    "\n",
    "    model.add(Dense(64))\n",
    "    model.add(Activation('relu'))\n",
    "    model.add(Dropout(0.5))\n",
    "\n",
    "    model.add(Dense(1))\n",
    "    model.add(Activation('sigmoid'))    \n",
    "    \n",
    "    model.compile(loss='binary_crossentropy',\n",
    "              optimizer=opt,\n",
    "              metrics=['accuracy', sensitivity, specificity, fmed, f1])\n",
    "    return model"
   ]
  },
  {
   "cell_type": "markdown",
   "metadata": {
    "id": "gP1ABSqhRrQv"
   },
   "source": [
    "<h1>TRAINING MODEL WITH ADAM OPTIMIZER AND SAVING THE BEST WEIGHTS IN H5 FILE </h1>"
   ]
  },
  {
   "cell_type": "code",
   "execution_count": 26,
   "metadata": {
    "colab": {
     "base_uri": "https://localhost:8080/",
     "height": 1000
    },
    "id": "G6aWvEf4LcKS",
    "outputId": "6c05ec43-fc47-4a39-c6f4-d4e7793f22b9"
   },
   "outputs": [
    {
     "name": "stdout",
     "output_type": "stream",
     "text": [
      "Epoch 1/50\n",
      "533/533 [==============================] - ETA: 0s - loss: 0.5691 - accuracy: 0.6851 - sensitivity: 0.8512 - specificity: 0.4707 - fmed: 0.5464 - f1: 0.7503\n",
      "Epoch 00001: val_fmed improved from -inf to 0.68773, saving model to C:/Users/mwangit/Desktop/projects/datasetss/dataset/train\\nn_best_model_cv_val_fmed.h5\n",
      "533/533 [==============================] - 497s 932ms/step - loss: 0.5691 - accuracy: 0.6851 - sensitivity: 0.8512 - specificity: 0.4707 - fmed: 0.5464 - f1: 0.7503 - val_loss: 0.4893 - val_accuracy: 0.7640 - val_sensitivity: 0.9057 - val_specificity: 0.5688 - val_fmed: 0.6877 - val_f1: 0.8145\n",
      "Epoch 2/50\n",
      "533/533 [==============================] - ETA: 0s - loss: 0.4385 - accuracy: 0.7737 - sensitivity: 0.8909 - specificity: 0.6232 - fmed: 0.7221 - f1: 0.8119\n",
      "Epoch 00002: val_fmed improved from 0.68773 to 0.76968, saving model to C:/Users/mwangit/Desktop/projects/datasetss/dataset/train\\nn_best_model_cv_val_fmed.h5\n",
      "533/533 [==============================] - 516s 968ms/step - loss: 0.4385 - accuracy: 0.7737 - sensitivity: 0.8909 - specificity: 0.6232 - fmed: 0.7221 - f1: 0.8119 - val_loss: 0.3893 - val_accuracy: 0.8034 - val_sensitivity: 0.8742 - val_specificity: 0.7047 - val_fmed: 0.7697 - val_f1: 0.8352\n",
      "Epoch 3/50\n",
      "533/533 [==============================] - ETA: 0s - loss: 0.4043 - accuracy: 0.7835 - sensitivity: 0.9069 - specificity: 0.6232 - fmed: 0.7270 - f1: 0.8216\n",
      "Epoch 00003: val_fmed improved from 0.76968 to 0.78180, saving model to C:/Users/mwangit/Desktop/projects/datasetss/dataset/train\\nn_best_model_cv_val_fmed.h5\n",
      "533/533 [==============================] - 528s 991ms/step - loss: 0.4043 - accuracy: 0.7835 - sensitivity: 0.9069 - specificity: 0.6232 - fmed: 0.7270 - f1: 0.8216 - val_loss: 0.3643 - val_accuracy: 0.8145 - val_sensitivity: 0.8868 - val_specificity: 0.7158 - val_fmed: 0.7818 - val_f1: 0.8455\n",
      "Epoch 4/50\n",
      "533/533 [==============================] - ETA: 0s - loss: 0.3827 - accuracy: 0.7932 - sensitivity: 0.9169 - specificity: 0.6341 - fmed: 0.7392 - f1: 0.8303\n",
      "Epoch 00004: val_fmed improved from 0.78180 to 0.79009, saving model to C:/Users/mwangit/Desktop/projects/datasetss/dataset/train\\nn_best_model_cv_val_fmed.h5\n",
      "533/533 [==============================] - 532s 999ms/step - loss: 0.3827 - accuracy: 0.7932 - sensitivity: 0.9169 - specificity: 0.6341 - fmed: 0.7392 - f1: 0.8303 - val_loss: 0.3488 - val_accuracy: 0.8156 - val_sensitivity: 0.8737 - val_specificity: 0.7353 - val_fmed: 0.7901 - val_f1: 0.8440\n",
      "Epoch 5/50\n",
      "533/533 [==============================] - ETA: 0s - loss: 0.3648 - accuracy: 0.7977 - sensitivity: 0.9133 - specificity: 0.6480 - fmed: 0.7487 - f1: 0.8324\n",
      "Epoch 00005: val_fmed improved from 0.79009 to 0.79281, saving model to C:/Users/mwangit/Desktop/projects/datasetss/dataset/train\\nn_best_model_cv_val_fmed.h5\n",
      "533/533 [==============================] - 554s 1s/step - loss: 0.3648 - accuracy: 0.7977 - sensitivity: 0.9133 - specificity: 0.6480 - fmed: 0.7487 - f1: 0.8324 - val_loss: 0.3414 - val_accuracy: 0.8267 - val_sensitivity: 0.9053 - val_specificity: 0.7203 - val_fmed: 0.7928 - val_f1: 0.8572\n",
      "Epoch 6/50\n",
      "533/533 [==============================] - ETA: 0s - loss: 0.3503 - accuracy: 0.8013 - sensitivity: 0.9082 - specificity: 0.6593 - fmed: 0.7533 - f1: 0.8342\n",
      "Epoch 00006: val_fmed improved from 0.79281 to 0.81061, saving model to C:/Users/mwangit/Desktop/projects/datasetss/dataset/train\\nn_best_model_cv_val_fmed.h5\n",
      "533/533 [==============================] - 571s 1s/step - loss: 0.3503 - accuracy: 0.8013 - sensitivity: 0.9082 - specificity: 0.6593 - fmed: 0.7533 - f1: 0.8342 - val_loss: 0.3270 - val_accuracy: 0.8363 - val_sensitivity: 0.8948 - val_specificity: 0.7550 - val_fmed: 0.8106 - val_f1: 0.8625\n",
      "Epoch 7/50\n",
      "533/533 [==============================] - ETA: 0s - loss: 0.3398 - accuracy: 0.8111 - sensitivity: 0.9200 - specificity: 0.6683 - fmed: 0.7660 - f1: 0.8432\n",
      "Epoch 00007: val_fmed improved from 0.81061 to 0.81532, saving model to C:/Users/mwangit/Desktop/projects/datasetss/dataset/train\\nn_best_model_cv_val_fmed.h5\n",
      "533/533 [==============================] - 522s 980ms/step - loss: 0.3398 - accuracy: 0.8111 - sensitivity: 0.9200 - specificity: 0.6683 - fmed: 0.7660 - f1: 0.8432 - val_loss: 0.3233 - val_accuracy: 0.8351 - val_sensitivity: 0.8821 - val_specificity: 0.7713 - val_fmed: 0.8153 - val_f1: 0.8596\n",
      "Epoch 8/50\n",
      "533/533 [==============================] - ETA: 0s - loss: 0.3280 - accuracy: 0.8130 - sensitivity: 0.8838 - specificity: 0.7217 - fmed: 0.7852 - f1: 0.8379\n",
      "Epoch 00008: val_fmed improved from 0.81532 to 0.82606, saving model to C:/Users/mwangit/Desktop/projects/datasetss/dataset/train\\nn_best_model_cv_val_fmed.h5\n",
      "533/533 [==============================] - 504s 946ms/step - loss: 0.3280 - accuracy: 0.8130 - sensitivity: 0.8838 - specificity: 0.7217 - fmed: 0.7852 - f1: 0.8379 - val_loss: 0.3123 - val_accuracy: 0.8426 - val_sensitivity: 0.8833 - val_specificity: 0.7882 - val_fmed: 0.8261 - val_f1: 0.8657\n",
      "Epoch 9/50\n",
      "533/533 [==============================] - ETA: 0s - loss: 0.3209 - accuracy: 0.8154 - sensitivity: 0.8867 - specificity: 0.7233 - fmed: 0.7881 - f1: 0.8402\n",
      "Epoch 00009: val_fmed improved from 0.82606 to 0.82622, saving model to C:/Users/mwangit/Desktop/projects/datasetss/dataset/train\\nn_best_model_cv_val_fmed.h5\n",
      "533/533 [==============================] - 490s 920ms/step - loss: 0.3209 - accuracy: 0.8154 - sensitivity: 0.8867 - specificity: 0.7233 - fmed: 0.7881 - f1: 0.8402 - val_loss: 0.2984 - val_accuracy: 0.8471 - val_sensitivity: 0.9027 - val_specificity: 0.7725 - val_fmed: 0.8262 - val_f1: 0.8713\n",
      "Epoch 10/50\n",
      "533/533 [==============================] - ETA: 0s - loss: 0.3042 - accuracy: 0.8196 - sensitivity: 0.8028 - specificity: 0.8409 - fmed: 0.8141 - f1: 0.8300\n",
      "Epoch 00010: val_fmed improved from 0.82622 to 0.83403, saving model to C:/Users/mwangit/Desktop/projects/datasetss/dataset/train\\nn_best_model_cv_val_fmed.h5\n",
      "533/533 [==============================] - 477s 895ms/step - loss: 0.3042 - accuracy: 0.8196 - sensitivity: 0.8028 - specificity: 0.8409 - fmed: 0.8141 - f1: 0.8300 - val_loss: 0.2992 - val_accuracy: 0.8328 - val_sensitivity: 0.7929 - val_specificity: 0.8930 - val_fmed: 0.8340 - val_f1: 0.8438\n",
      "Epoch 11/50\n",
      "533/533 [==============================] - ETA: 0s - loss: 0.2970 - accuracy: 0.8310 - sensitivity: 0.7628 - specificity: 0.9194 - fmed: 0.8273 - f1: 0.8314\n",
      "Epoch 00011: val_fmed improved from 0.83403 to 0.85295, saving model to C:/Users/mwangit/Desktop/projects/datasetss/dataset/train\\nn_best_model_cv_val_fmed.h5\n",
      "533/533 [==============================] - 491s 922ms/step - loss: 0.2970 - accuracy: 0.8310 - sensitivity: 0.7628 - specificity: 0.9194 - fmed: 0.8273 - f1: 0.8314 - val_loss: 0.2987 - val_accuracy: 0.8499 - val_sensitivity: 0.8001 - val_specificity: 0.9235 - val_fmed: 0.8530 - val_f1: 0.8584\n",
      "Epoch 12/50\n",
      "533/533 [==============================] - ETA: 0s - loss: 0.2894 - accuracy: 0.8349 - sensitivity: 0.7986 - specificity: 0.8799 - fmed: 0.8288 - f1: 0.8405\n",
      "Epoch 00012: val_fmed did not improve from 0.85295\n",
      "533/533 [==============================] - 486s 911ms/step - loss: 0.2894 - accuracy: 0.8349 - sensitivity: 0.7986 - specificity: 0.8799 - fmed: 0.8288 - f1: 0.8405 - val_loss: 0.2915 - val_accuracy: 0.8457 - val_sensitivity: 0.8161 - val_specificity: 0.8916 - val_fmed: 0.8464 - val_f1: 0.8578\n",
      "Epoch 13/50\n",
      "533/533 [==============================] - ETA: 0s - loss: 0.2810 - accuracy: 0.8408 - sensitivity: 0.7686 - specificity: 0.9327 - fmed: 0.8365 - f1: 0.8402\n",
      "Epoch 00013: val_fmed improved from 0.85295 to 0.85482, saving model to C:/Users/mwangit/Desktop/projects/datasetss/dataset/train\\nn_best_model_cv_val_fmed.h5\n",
      "533/533 [==============================] - 471s 883ms/step - loss: 0.2810 - accuracy: 0.8408 - sensitivity: 0.7686 - specificity: 0.9327 - fmed: 0.8365 - f1: 0.8402 - val_loss: 0.2764 - val_accuracy: 0.8530 - val_sensitivity: 0.8088 - val_specificity: 0.9185 - val_fmed: 0.8548 - val_f1: 0.8616\n",
      "Epoch 14/50\n",
      "533/533 [==============================] - ETA: 0s - loss: 0.2631 - accuracy: 0.8534 - sensitivity: 0.7798 - specificity: 0.9478 - fmed: 0.8512 - f1: 0.8533\n",
      "Epoch 00014: val_fmed improved from 0.85482 to 0.85939, saving model to C:/Users/mwangit/Desktop/projects/datasetss/dataset/train\\nn_best_model_cv_val_fmed.h5\n",
      "533/533 [==============================] - 475s 891ms/step - loss: 0.2631 - accuracy: 0.8534 - sensitivity: 0.7798 - specificity: 0.9478 - fmed: 0.8512 - f1: 0.8533 - val_loss: 0.2695 - val_accuracy: 0.8598 - val_sensitivity: 0.8440 - val_specificity: 0.8841 - val_fmed: 0.8594 - val_f1: 0.8735\n"
     ]
    },
    {
     "name": "stdout",
     "output_type": "stream",
     "text": [
      "Epoch 15/50\n",
      "533/533 [==============================] - ETA: 0s - loss: 0.2631 - accuracy: 0.8547 - sensitivity: 0.7793 - specificity: 0.9486 - fmed: 0.8504 - f1: 0.8533\n",
      "Epoch 00015: val_fmed improved from 0.85939 to 0.86782, saving model to C:/Users/mwangit/Desktop/projects/datasetss/dataset/train\\nn_best_model_cv_val_fmed.h5\n",
      "533/533 [==============================] - 472s 885ms/step - loss: 0.2631 - accuracy: 0.8547 - sensitivity: 0.7793 - specificity: 0.9486 - fmed: 0.8504 - f1: 0.8533 - val_loss: 0.2517 - val_accuracy: 0.8673 - val_sensitivity: 0.8458 - val_specificity: 0.9014 - val_fmed: 0.8678 - val_f1: 0.8789\n",
      "Epoch 16/50\n",
      "533/533 [==============================] - ETA: 0s - loss: 0.2502 - accuracy: 0.8578 - sensitivity: 0.7826 - specificity: 0.9555 - fmed: 0.8561 - f1: 0.8572\n",
      "Epoch 00016: val_fmed improved from 0.86782 to 0.87595, saving model to C:/Users/mwangit/Desktop/projects/datasetss/dataset/train\\nn_best_model_cv_val_fmed.h5\n",
      "533/533 [==============================] - 474s 888ms/step - loss: 0.2502 - accuracy: 0.8578 - sensitivity: 0.7826 - specificity: 0.9555 - fmed: 0.8561 - f1: 0.8572 - val_loss: 0.2491 - val_accuracy: 0.8741 - val_sensitivity: 0.8441 - val_specificity: 0.9185 - val_fmed: 0.8759 - val_f1: 0.8834\n",
      "Epoch 17/50\n",
      "533/533 [==============================] - ETA: 0s - loss: 0.2460 - accuracy: 0.8596 - sensitivity: 0.7853 - specificity: 0.9558 - fmed: 0.8581 - f1: 0.8597\n",
      "Epoch 00017: val_fmed improved from 0.87595 to 0.87786, saving model to C:/Users/mwangit/Desktop/projects/datasetss/dataset/train\\nn_best_model_cv_val_fmed.h5\n",
      "533/533 [==============================] - 486s 912ms/step - loss: 0.2460 - accuracy: 0.8596 - sensitivity: 0.7853 - specificity: 0.9558 - fmed: 0.8581 - f1: 0.8597 - val_loss: 0.2464 - val_accuracy: 0.8744 - val_sensitivity: 0.8133 - val_specificity: 0.9613 - val_fmed: 0.8779 - val_f1: 0.8802\n",
      "Epoch 18/50\n",
      "533/533 [==============================] - ETA: 0s - loss: 0.2371 - accuracy: 0.8666 - sensitivity: 0.7961 - specificity: 0.9577 - fmed: 0.8654 - f1: 0.8678\n",
      "Epoch 00018: val_fmed improved from 0.87786 to 0.89023, saving model to C:/Users/mwangit/Desktop/projects/datasetss/dataset/train\\nn_best_model_cv_val_fmed.h5\n",
      "533/533 [==============================] - 485s 910ms/step - loss: 0.2371 - accuracy: 0.8666 - sensitivity: 0.7961 - specificity: 0.9577 - fmed: 0.8654 - f1: 0.8678 - val_loss: 0.2319 - val_accuracy: 0.8882 - val_sensitivity: 0.8624 - val_specificity: 0.9279 - val_fmed: 0.8902 - val_f1: 0.8980\n",
      "Epoch 19/50\n",
      "533/533 [==============================] - ETA: 0s - loss: 0.2285 - accuracy: 0.8698 - sensitivity: 0.8005 - specificity: 0.9580 - fmed: 0.8680 - f1: 0.8706\n",
      "Epoch 00019: val_fmed did not improve from 0.89023\n",
      "533/533 [==============================] - 486s 911ms/step - loss: 0.2285 - accuracy: 0.8698 - sensitivity: 0.8005 - specificity: 0.9580 - fmed: 0.8680 - f1: 0.8706 - val_loss: 0.2399 - val_accuracy: 0.8793 - val_sensitivity: 0.8687 - val_specificity: 0.8975 - val_fmed: 0.8779 - val_f1: 0.8913\n",
      "Epoch 20/50\n",
      "533/533 [==============================] - ETA: 0s - loss: 0.2213 - accuracy: 0.8762 - sensitivity: 0.8085 - specificity: 0.9628 - fmed: 0.8749 - f1: 0.8768\n",
      "Epoch 00020: val_fmed improved from 0.89023 to 0.89696, saving model to C:/Users/mwangit/Desktop/projects/datasetss/dataset/train\\nn_best_model_cv_val_fmed.h5\n",
      "533/533 [==============================] - 500s 937ms/step - loss: 0.2213 - accuracy: 0.8762 - sensitivity: 0.8085 - specificity: 0.9628 - fmed: 0.8749 - f1: 0.8768 - val_loss: 0.2277 - val_accuracy: 0.8950 - val_sensitivity: 0.8675 - val_specificity: 0.9352 - val_fmed: 0.8970 - val_f1: 0.9040\n",
      "Epoch 21/50\n",
      "533/533 [==============================] - ETA: 0s - loss: 0.2145 - accuracy: 0.8811 - sensitivity: 0.8146 - specificity: 0.9645 - fmed: 0.8786 - f1: 0.8806\n",
      "Epoch 00021: val_fmed did not improve from 0.89696\n",
      "533/533 [==============================] - 478s 898ms/step - loss: 0.2145 - accuracy: 0.8811 - sensitivity: 0.8146 - specificity: 0.9645 - fmed: 0.8786 - f1: 0.8806 - val_loss: 0.2252 - val_accuracy: 0.8931 - val_sensitivity: 0.8560 - val_specificity: 0.9470 - val_fmed: 0.8963 - val_f1: 0.9011\n",
      "Epoch 22/50\n",
      "533/533 [==============================] - ETA: 0s - loss: 0.2068 - accuracy: 0.8861 - sensitivity: 0.8210 - specificity: 0.9683 - fmed: 0.8847 - f1: 0.8859\n",
      "Epoch 00022: val_fmed improved from 0.89696 to 0.89844, saving model to C:/Users/mwangit/Desktop/projects/datasetss/dataset/train\\nn_best_model_cv_val_fmed.h5\n",
      "533/533 [==============================] - 484s 908ms/step - loss: 0.2068 - accuracy: 0.8861 - sensitivity: 0.8210 - specificity: 0.9683 - fmed: 0.8847 - f1: 0.8859 - val_loss: 0.2233 - val_accuracy: 0.8957 - val_sensitivity: 0.8706 - val_specificity: 0.9344 - val_fmed: 0.8984 - val_f1: 0.9053\n",
      "Epoch 23/50\n",
      "533/533 [==============================] - ETA: 0s - loss: 0.2069 - accuracy: 0.8847 - sensitivity: 0.8184 - specificity: 0.9699 - fmed: 0.8843 - f1: 0.8857\n",
      "Epoch 00023: val_fmed improved from 0.89844 to 0.90650, saving model to C:/Users/mwangit/Desktop/projects/datasetss/dataset/train\\nn_best_model_cv_val_fmed.h5\n",
      "533/533 [==============================] - 482s 904ms/step - loss: 0.2069 - accuracy: 0.8847 - sensitivity: 0.8184 - specificity: 0.9699 - fmed: 0.8843 - f1: 0.8857 - val_loss: 0.2152 - val_accuracy: 0.9047 - val_sensitivity: 0.8879 - val_specificity: 0.9318 - val_fmed: 0.9065 - val_f1: 0.9142\n",
      "Epoch 24/50\n",
      "533/533 [==============================] - ETA: 0s - loss: 0.1999 - accuracy: 0.8893 - sensitivity: 0.8280 - specificity: 0.9683 - fmed: 0.8894 - f1: 0.8910\n",
      "Epoch 00024: val_fmed improved from 0.90650 to 0.90907, saving model to C:/Users/mwangit/Desktop/projects/datasetss/dataset/train\\nn_best_model_cv_val_fmed.h5\n",
      "533/533 [==============================] - 514s 963ms/step - loss: 0.1999 - accuracy: 0.8893 - sensitivity: 0.8280 - specificity: 0.9683 - fmed: 0.8894 - f1: 0.8910 - val_loss: 0.2037 - val_accuracy: 0.9065 - val_sensitivity: 0.8774 - val_specificity: 0.9495 - val_fmed: 0.9091 - val_f1: 0.9144\n",
      "Epoch 25/50\n",
      "533/533 [==============================] - ETA: 0s - loss: 0.1884 - accuracy: 0.8970 - sensitivity: 0.8370 - specificity: 0.9734 - fmed: 0.8969 - f1: 0.8986\n",
      "Epoch 00025: val_fmed did not improve from 0.90907\n",
      "533/533 [==============================] - 515s 965ms/step - loss: 0.1884 - accuracy: 0.8970 - sensitivity: 0.8370 - specificity: 0.9734 - fmed: 0.8969 - f1: 0.8986 - val_loss: 0.2022 - val_accuracy: 0.9063 - val_sensitivity: 0.8846 - val_specificity: 0.9387 - val_fmed: 0.9080 - val_f1: 0.9147\n",
      "Epoch 26/50\n",
      "533/533 [==============================] - ETA: 0s - loss: 0.1938 - accuracy: 0.8919 - sensitivity: 0.8289 - specificity: 0.9712 - fmed: 0.8911 - f1: 0.8931\n",
      "Epoch 00026: val_fmed improved from 0.90907 to 0.91297, saving model to C:/Users/mwangit/Desktop/projects/datasetss/dataset/train\\nn_best_model_cv_val_fmed.h5\n",
      "533/533 [==============================] - 523s 982ms/step - loss: 0.1938 - accuracy: 0.8919 - sensitivity: 0.8289 - specificity: 0.9712 - fmed: 0.8911 - f1: 0.8931 - val_loss: 0.1941 - val_accuracy: 0.9112 - val_sensitivity: 0.8866 - val_specificity: 0.9470 - val_fmed: 0.9130 - val_f1: 0.9191\n",
      "Epoch 27/50\n",
      "533/533 [==============================] - ETA: 0s - loss: 0.1886 - accuracy: 0.8949 - sensitivity: 0.8341 - specificity: 0.9731 - fmed: 0.8950 - f1: 0.8963\n",
      "Epoch 00027: val_fmed did not improve from 0.91297\n",
      "533/533 [==============================] - 548s 1s/step - loss: 0.1886 - accuracy: 0.8949 - sensitivity: 0.8341 - specificity: 0.9731 - fmed: 0.8950 - f1: 0.8963 - val_loss: 0.2051 - val_accuracy: 0.9093 - val_sensitivity: 0.8908 - val_specificity: 0.9392 - val_fmed: 0.9115 - val_f1: 0.9179\n",
      "Epoch 28/50\n",
      "533/533 [==============================] - ETA: 0s - loss: 0.1769 - accuracy: 0.9020 - sensitivity: 0.8430 - specificity: 0.9775 - fmed: 0.9014 - f1: 0.9022\n",
      "Epoch 00028: val_fmed did not improve from 0.91297\n",
      "533/533 [==============================] - 508s 954ms/step - loss: 0.1769 - accuracy: 0.9020 - sensitivity: 0.8430 - specificity: 0.9775 - fmed: 0.9014 - f1: 0.9022 - val_loss: 0.2045 - val_accuracy: 0.9103 - val_sensitivity: 0.8862 - val_specificity: 0.9459 - val_fmed: 0.9124 - val_f1: 0.9181\n",
      "Epoch 29/50\n",
      "533/533 [==============================] - ETA: 0s - loss: 0.1825 - accuracy: 0.9006 - sensitivity: 0.8444 - specificity: 0.9733 - fmed: 0.9010 - f1: 0.9025\n",
      "Epoch 00029: val_fmed improved from 0.91297 to 0.91805, saving model to C:/Users/mwangit/Desktop/projects/datasetss/dataset/train\\nn_best_model_cv_val_fmed.h5\n",
      "533/533 [==============================] - 527s 988ms/step - loss: 0.1825 - accuracy: 0.9006 - sensitivity: 0.8444 - specificity: 0.9733 - fmed: 0.9010 - f1: 0.9025 - val_loss: 0.1878 - val_accuracy: 0.9150 - val_sensitivity: 0.8899 - val_specificity: 0.9541 - val_fmed: 0.9180 - val_f1: 0.9223\n",
      "Epoch 30/50\n",
      "533/533 [==============================] - ETA: 0s - loss: 0.1719 - accuracy: 0.9016 - sensitivity: 0.8417 - specificity: 0.9768 - fmed: 0.9013 - f1: 0.9028\n",
      "Epoch 00030: val_fmed did not improve from 0.91805\n",
      "533/533 [==============================] - 595s 1s/step - loss: 0.1719 - accuracy: 0.9016 - sensitivity: 0.8417 - specificity: 0.9768 - fmed: 0.9013 - f1: 0.9028 - val_loss: 0.1962 - val_accuracy: 0.9077 - val_sensitivity: 0.8789 - val_specificity: 0.9518 - val_fmed: 0.9109 - val_f1: 0.9153\n",
      "Epoch 31/50\n",
      "533/533 [==============================] - ETA: 0s - loss: 0.1716 - accuracy: 0.9052 - sensitivity: 0.8494 - specificity: 0.9778 - fmed: 0.9059 - f1: 0.9070\n",
      "Epoch 00031: val_fmed improved from 0.91805 to 0.92023, saving model to C:/Users/mwangit/Desktop/projects/datasetss/dataset/train\\nn_best_model_cv_val_fmed.h5\n",
      "533/533 [==============================] - 498s 935ms/step - loss: 0.1716 - accuracy: 0.9052 - sensitivity: 0.8494 - specificity: 0.9778 - fmed: 0.9059 - f1: 0.9070 - val_loss: 0.2172 - val_accuracy: 0.9192 - val_sensitivity: 0.9085 - val_specificity: 0.9363 - val_fmed: 0.9202 - val_f1: 0.9277\n",
      "Epoch 32/50\n",
      "533/533 [==============================] - ETA: 0s - loss: 0.1635 - accuracy: 0.9094 - sensitivity: 0.8575 - specificity: 0.9768 - fmed: 0.9106 - f1: 0.9121\n",
      "Epoch 00032: val_fmed improved from 0.92023 to 0.92088, saving model to C:/Users/mwangit/Desktop/projects/datasetss/dataset/train\\nn_best_model_cv_val_fmed.h5\n",
      "533/533 [==============================] - 479s 898ms/step - loss: 0.1635 - accuracy: 0.9094 - sensitivity: 0.8575 - specificity: 0.9768 - fmed: 0.9106 - f1: 0.9121 - val_loss: 0.1952 - val_accuracy: 0.9169 - val_sensitivity: 0.8844 - val_specificity: 0.9652 - val_fmed: 0.9209 - val_f1: 0.9242\n",
      "Epoch 33/50\n",
      "533/533 [==============================] - ETA: 0s - loss: 0.1636 - accuracy: 0.9111 - sensitivity: 0.8595 - specificity: 0.9790 - fmed: 0.9127 - f1: 0.9137\n",
      "Epoch 00033: val_fmed improved from 0.92088 to 0.92187, saving model to C:/Users/mwangit/Desktop/projects/datasetss/dataset/train\\nn_best_model_cv_val_fmed.h5\n",
      "533/533 [==============================] - 466s 875ms/step - loss: 0.1636 - accuracy: 0.9111 - sensitivity: 0.8595 - specificity: 0.9790 - fmed: 0.9127 - f1: 0.9137 - val_loss: 0.1953 - val_accuracy: 0.9206 - val_sensitivity: 0.9004 - val_specificity: 0.9494 - val_fmed: 0.9219 - val_f1: 0.9287\n",
      "Epoch 34/50\n",
      "533/533 [==============================] - ETA: 0s - loss: 0.1621 - accuracy: 0.9099 - sensitivity: 0.8605 - specificity: 0.9751 - fmed: 0.9114 - f1: 0.9131\n",
      "Epoch 00034: val_fmed did not improve from 0.92187\n",
      "533/533 [==============================] - 478s 897ms/step - loss: 0.1621 - accuracy: 0.9099 - sensitivity: 0.8605 - specificity: 0.9751 - fmed: 0.9114 - f1: 0.9131 - val_loss: 0.2047 - val_accuracy: 0.9159 - val_sensitivity: 0.8920 - val_specificity: 0.9528 - val_fmed: 0.9188 - val_f1: 0.9243\n",
      "Epoch 35/50\n",
      "533/533 [==============================] - ETA: 0s - loss: 0.1602 - accuracy: 0.9117 - sensitivity: 0.8619 - specificity: 0.9782 - fmed: 0.9136 - f1: 0.9148\n",
      "Epoch 00035: val_fmed improved from 0.92187 to 0.92218, saving model to C:/Users/mwangit/Desktop/projects/datasetss/dataset/train\\nn_best_model_cv_val_fmed.h5\n",
      "533/533 [==============================] - 475s 890ms/step - loss: 0.1602 - accuracy: 0.9117 - sensitivity: 0.8619 - specificity: 0.9782 - fmed: 0.9136 - f1: 0.9148 - val_loss: 0.2110 - val_accuracy: 0.9204 - val_sensitivity: 0.9046 - val_specificity: 0.9448 - val_fmed: 0.9222 - val_f1: 0.9280\n",
      "Epoch 36/50\n",
      "533/533 [==============================] - ETA: 0s - loss: 0.1527 - accuracy: 0.9170 - sensitivity: 0.8707 - specificity: 0.9771 - fmed: 0.9185 - f1: 0.9199\n",
      "Epoch 00036: val_fmed improved from 0.92218 to 0.92746, saving model to C:/Users/mwangit/Desktop/projects/datasetss/dataset/train\\nn_best_model_cv_val_fmed.h5\n",
      "533/533 [==============================] - 475s 892ms/step - loss: 0.1527 - accuracy: 0.9170 - sensitivity: 0.8707 - specificity: 0.9771 - fmed: 0.9185 - f1: 0.9199 - val_loss: 0.1788 - val_accuracy: 0.9239 - val_sensitivity: 0.8959 - val_specificity: 0.9659 - val_fmed: 0.9275 - val_f1: 0.9310\n",
      "Epoch 37/50\n",
      "533/533 [==============================] - ETA: 0s - loss: 0.1483 - accuracy: 0.9185 - sensitivity: 0.8682 - specificity: 0.9815 - fmed: 0.9179 - f1: 0.9194\n",
      "Epoch 00037: val_fmed did not improve from 0.92746\n",
      "533/533 [==============================] - 476s 892ms/step - loss: 0.1483 - accuracy: 0.9185 - sensitivity: 0.8682 - specificity: 0.9815 - fmed: 0.9179 - f1: 0.9194 - val_loss: 0.1878 - val_accuracy: 0.9216 - val_sensitivity: 0.9063 - val_specificity: 0.9467 - val_fmed: 0.9236 - val_f1: 0.9295\n",
      "Epoch 38/50\n",
      "533/533 [==============================] - ETA: 0s - loss: 0.1491 - accuracy: 0.9195 - sensitivity: 0.8728 - specificity: 0.9800 - fmed: 0.9211 - f1: 0.9225\n",
      "Epoch 00038: val_fmed improved from 0.92746 to 0.92937, saving model to C:/Users/mwangit/Desktop/projects/datasetss/dataset/train\\nn_best_model_cv_val_fmed.h5\n",
      "533/533 [==============================] - 470s 883ms/step - loss: 0.1491 - accuracy: 0.9195 - sensitivity: 0.8728 - specificity: 0.9800 - fmed: 0.9211 - f1: 0.9225 - val_loss: 0.1937 - val_accuracy: 0.9270 - val_sensitivity: 0.9098 - val_specificity: 0.9539 - val_fmed: 0.9294 - val_f1: 0.9342\n",
      "Epoch 39/50\n",
      "533/533 [==============================] - ETA: 0s - loss: 0.1430 - accuracy: 0.9208 - sensitivity: 0.8721 - specificity: 0.9825 - fmed: 0.9209 - f1: 0.9220\n",
      "Epoch 00039: val_fmed improved from 0.92937 to 0.93044, saving model to C:/Users/mwangit/Desktop/projects/datasetss/dataset/train\\nn_best_model_cv_val_fmed.h5\n",
      "533/533 [==============================] - 481s 902ms/step - loss: 0.1430 - accuracy: 0.9208 - sensitivity: 0.8721 - specificity: 0.9825 - fmed: 0.9209 - f1: 0.9220 - val_loss: 0.1782 - val_accuracy: 0.9281 - val_sensitivity: 0.9072 - val_specificity: 0.9588 - val_fmed: 0.9304 - val_f1: 0.9345\n",
      "Epoch 40/50\n",
      "533/533 [==============================] - ETA: 0s - loss: 0.1422 - accuracy: 0.9234 - sensitivity: 0.8785 - specificity: 0.9824 - fmed: 0.9255 - f1: 0.9264\n",
      "Epoch 00040: val_fmed did not improve from 0.93044\n",
      "533/533 [==============================] - 475s 891ms/step - loss: 0.1422 - accuracy: 0.9234 - sensitivity: 0.8785 - specificity: 0.9824 - fmed: 0.9255 - f1: 0.9264 - val_loss: 0.2078 - val_accuracy: 0.9281 - val_sensitivity: 0.9243 - val_specificity: 0.9355 - val_fmed: 0.9278 - val_f1: 0.9358\n",
      "Epoch 41/50\n",
      "533/533 [==============================] - ETA: 0s - loss: 0.1415 - accuracy: 0.9251 - sensitivity: 0.8830 - specificity: 0.9803 - fmed: 0.9269 - f1: 0.9284\n",
      "Epoch 00041: val_fmed did not improve from 0.93044\n",
      "533/533 [==============================] - 477s 896ms/step - loss: 0.1415 - accuracy: 0.9251 - sensitivity: 0.8830 - specificity: 0.9803 - fmed: 0.9269 - f1: 0.9284 - val_loss: 0.1893 - val_accuracy: 0.9267 - val_sensitivity: 0.9155 - val_specificity: 0.9427 - val_fmed: 0.9268 - val_f1: 0.9347\n",
      "Epoch 42/50\n",
      "533/533 [==============================] - ETA: 0s - loss: 0.1329 - accuracy: 0.9263 - sensitivity: 0.8831 - specificity: 0.9819 - fmed: 0.9275 - f1: 0.9289\n",
      "Epoch 00042: val_fmed did not improve from 0.93044\n",
      "533/533 [==============================] - 470s 882ms/step - loss: 0.1329 - accuracy: 0.9263 - sensitivity: 0.8831 - specificity: 0.9819 - fmed: 0.9275 - f1: 0.9289 - val_loss: 0.1981 - val_accuracy: 0.9218 - val_sensitivity: 0.9000 - val_specificity: 0.9558 - val_fmed: 0.9246 - val_f1: 0.9292\n",
      "Epoch 43/50\n"
     ]
    },
    {
     "name": "stdout",
     "output_type": "stream",
     "text": [
      "533/533 [==============================] - ETA: 0s - loss: 0.1406 - accuracy: 0.9238 - sensitivity: 0.8819 - specificity: 0.9792 - fmed: 0.9255 - f1: 0.9267\n",
      "Epoch 00043: val_fmed improved from 0.93044 to 0.93067, saving model to C:/Users/mwangit/Desktop/projects/datasetss/dataset/train\\nn_best_model_cv_val_fmed.h5\n",
      "533/533 [==============================] - 473s 887ms/step - loss: 0.1406 - accuracy: 0.9238 - sensitivity: 0.8819 - specificity: 0.9792 - fmed: 0.9255 - f1: 0.9267 - val_loss: 0.1766 - val_accuracy: 0.9277 - val_sensitivity: 0.9061 - val_specificity: 0.9603 - val_fmed: 0.9307 - val_f1: 0.9346\n",
      "Epoch 44/50\n",
      "533/533 [==============================] - ETA: 0s - loss: 0.1345 - accuracy: 0.9258 - sensitivity: 0.8801 - specificity: 0.9831 - fmed: 0.9267 - f1: 0.9277\n",
      "Epoch 00044: val_fmed improved from 0.93067 to 0.93288, saving model to C:/Users/mwangit/Desktop/projects/datasetss/dataset/train\\nn_best_model_cv_val_fmed.h5\n",
      "533/533 [==============================] - 451s 847ms/step - loss: 0.1345 - accuracy: 0.9258 - sensitivity: 0.8801 - specificity: 0.9831 - fmed: 0.9267 - f1: 0.9277 - val_loss: 0.1725 - val_accuracy: 0.9300 - val_sensitivity: 0.9085 - val_specificity: 0.9622 - val_fmed: 0.9329 - val_f1: 0.9368\n",
      "Epoch 45/50\n",
      "533/533 [==============================] - ETA: 0s - loss: 0.1381 - accuracy: 0.9256 - sensitivity: 0.8817 - specificity: 0.9797 - fmed: 0.9251 - f1: 0.9266\n",
      "Epoch 00045: val_fmed improved from 0.93288 to 0.93513, saving model to C:/Users/mwangit/Desktop/projects/datasetss/dataset/train\\nn_best_model_cv_val_fmed.h5\n",
      "533/533 [==============================] - 469s 880ms/step - loss: 0.1381 - accuracy: 0.9256 - sensitivity: 0.8817 - specificity: 0.9797 - fmed: 0.9251 - f1: 0.9266 - val_loss: 0.1747 - val_accuracy: 0.9317 - val_sensitivity: 0.9073 - val_specificity: 0.9683 - val_fmed: 0.9351 - val_f1: 0.9380\n",
      "Epoch 46/50\n",
      "533/533 [==============================] - ETA: 0s - loss: 0.1297 - accuracy: 0.9302 - sensitivity: 0.8889 - specificity: 0.9834 - fmed: 0.9318 - f1: 0.9328\n",
      "Epoch 00046: val_fmed did not improve from 0.93513\n",
      "533/533 [==============================] - 455s 854ms/step - loss: 0.1297 - accuracy: 0.9302 - sensitivity: 0.8889 - specificity: 0.9834 - fmed: 0.9318 - f1: 0.9328 - val_loss: 0.1962 - val_accuracy: 0.9291 - val_sensitivity: 0.9179 - val_specificity: 0.9478 - val_fmed: 0.9309 - val_f1: 0.9362\n",
      "Epoch 47/50\n",
      "533/533 [==============================] - ETA: 0s - loss: 0.1278 - accuracy: 0.9289 - sensitivity: 0.8858 - specificity: 0.9851 - fmed: 0.9308 - f1: 0.9318\n",
      "Epoch 00047: val_fmed did not improve from 0.93513\n",
      "533/533 [==============================] - 677s 1s/step - loss: 0.1278 - accuracy: 0.9289 - sensitivity: 0.8858 - specificity: 0.9851 - fmed: 0.9308 - f1: 0.9318 - val_loss: 0.1911 - val_accuracy: 0.9263 - val_sensitivity: 0.9126 - val_specificity: 0.9485 - val_fmed: 0.9280 - val_f1: 0.9337\n",
      "Epoch 48/50\n",
      "533/533 [==============================] - ETA: 0s - loss: 0.1364 - accuracy: 0.9261 - sensitivity: 0.8852 - specificity: 0.9800 - fmed: 0.9281 - f1: 0.9297\n",
      "Epoch 00048: val_fmed did not improve from 0.93513\n",
      "533/533 [==============================] - 1382s 3s/step - loss: 0.1364 - accuracy: 0.9261 - sensitivity: 0.8852 - specificity: 0.9800 - fmed: 0.9281 - f1: 0.9297 - val_loss: 0.1874 - val_accuracy: 0.9307 - val_sensitivity: 0.9185 - val_specificity: 0.9511 - val_fmed: 0.9327 - val_f1: 0.9378\n",
      "Epoch 49/50\n",
      "533/533 [==============================] - ETA: 0s - loss: 0.1266 - accuracy: 0.9304 - sensitivity: 0.8900 - specificity: 0.9820 - fmed: 0.9316 - f1: 0.9333\n",
      "Epoch 00049: val_fmed improved from 0.93513 to 0.93720, saving model to C:/Users/mwangit/Desktop/projects/datasetss/dataset/train\\nn_best_model_cv_val_fmed.h5\n",
      "533/533 [==============================] - 480s 900ms/step - loss: 0.1266 - accuracy: 0.9304 - sensitivity: 0.8900 - specificity: 0.9820 - fmed: 0.9316 - f1: 0.9333 - val_loss: 0.1887 - val_accuracy: 0.9359 - val_sensitivity: 0.9278 - val_specificity: 0.9503 - val_fmed: 0.9372 - val_f1: 0.9427\n",
      "Epoch 50/50\n",
      "533/533 [==============================] - ETA: 0s - loss: 0.1195 - accuracy: 0.9359 - sensitivity: 0.8997 - specificity: 0.9837 - fmed: 0.9377 - f1: 0.9388\n",
      "Epoch 00050: val_fmed did not improve from 0.93720\n",
      "533/533 [==============================] - 483s 907ms/step - loss: 0.1195 - accuracy: 0.9359 - sensitivity: 0.8997 - specificity: 0.9837 - fmed: 0.9377 - f1: 0.9388 - val_loss: 0.1666 - val_accuracy: 0.9349 - val_sensitivity: 0.9176 - val_specificity: 0.9604 - val_fmed: 0.9366 - val_f1: 0.9412\n"
     ]
    }
   ],
   "source": [
    "#num_train_samples = 10000\n",
    "#num_validation_samples = 1000\n",
    "batch_size = 32\n",
    "model = generate_model(opt=keras.optimizers.Adam())\n",
    "# model.load_weights(data_dir + '/nn_best_model_cv_val_fmed.h5')\n",
    "history_val_fmed=model.fit(\n",
    "    X_train,y_train,\n",
    "    #steps_per_epoch= num_train_samples // batch_size,\n",
    "    validation_split=0.2,\n",
    "    #validation_steps= num_validation_samples // batch_size,\n",
    "    epochs=50, \n",
    "    verbose=1,\n",
    "        callbacks=[\n",
    "          EarlyStopping(monitor='val_fmed', mode=\"max\", verbose=1, patience=9),\n",
    "          ModelCheckpoint(train_path + '/nn_best_model_cv_val_fmed.h5', monitor='val_fmed', mode=\"max\", verbose=1, save_best_only=True)\n",
    "        ],\n",
    "    )"
   ]
  },
  {
   "cell_type": "markdown",
   "metadata": {},
   "source": [
    "<h1>ANALYZING MODEL USING THE PERFORMANCE METRICS BUT FOCUSING ON SPECIFICITY AND SENSITIVITY</h1>"
   ]
  },
  {
   "cell_type": "code",
   "execution_count": 27,
   "metadata": {
    "colab": {
     "base_uri": "https://localhost:8080/",
     "height": 312
    },
    "id": "3yQQPqyNScdw",
    "outputId": "9bb36aa8-bed7-426d-b71a-7088032b72f7"
   },
   "outputs": [
    {
     "name": "stdout",
     "output_type": "stream",
     "text": [
      "dict_keys(['loss', 'accuracy', 'sensitivity', 'specificity', 'fmed', 'f1', 'val_loss', 'val_accuracy', 'val_sensitivity', 'val_specificity', 'val_fmed', 'val_f1'])\n"
     ]
    },
    {
     "data": {
      "image/png": "[encoded data removed]",
      "text/plain": [
       "<Figure size 432x288 with 1 Axes>"
      ]
     },
     "metadata": {
      "needs_background": "light"
     },
     "output_type": "display_data"
    }
   ],
   "source": [
    "# list all data in history\n",
    "history = history_val_fmed\n",
    "print(history.history.keys())\n",
    "\n",
    "# summarize history for fmed score\n",
    "plt.plot(history.history['fmed'])\n",
    "plt.plot(history.history['val_fmed'])\n",
    "plt.title('Model Fmed score vs. epochs')\n",
    "plt.ylabel('Fmed')\n",
    "plt.xlabel('epochs')\n",
    "plt.legend(['train', 'test'], loc='lower right')\n",
    "plt.show()"
   ]
  },
  {
   "cell_type": "code",
   "execution_count": 28,
   "metadata": {
    "colab": {
     "base_uri": "https://localhost:8080/",
     "height": 295
    },
    "id": "N37Y402mSceA",
    "outputId": "324437d3-499d-409d-a796-c6b3dd145576"
   },
   "outputs": [
    {
     "data": {
      "image/png": "[encoded data removed]",
      "text/plain": [
       "<Figure size 432x288 with 1 Axes>"
      ]
     },
     "metadata": {
      "needs_background": "light"
     },
     "output_type": "display_data"
    }
   ],
   "source": [
    "# summarize history for sensitivity score\n",
    "plt.plot(history.history['sensitivity'])\n",
    "plt.plot(history.history['val_sensitivity'])\n",
    "plt.title('Model Sensitivity score vs. epochs')\n",
    "plt.ylabel('Sensitivity')\n",
    "plt.xlabel('epochs')\n",
    "plt.legend(['train', 'test'], loc='lower right')\n",
    "plt.show()\n",
    "\n"
   ]
  },
  {
   "cell_type": "code",
   "execution_count": 29,
   "metadata": {
    "colab": {
     "base_uri": "https://localhost:8080/",
     "height": 295
    },
    "id": "vp5jadQ4SceE",
    "outputId": "42271f34-d843-4a16-f8ae-2a1c756b2984"
   },
   "outputs": [
    {
     "data": {
      "image/png": "[encoded data removed]",
      "text/plain": [
       "<Figure size 432x288 with 1 Axes>"
      ]
     },
     "metadata": {
      "needs_background": "light"
     },
     "output_type": "display_data"
    }
   ],
   "source": [
    "# summarize history for specificity score\n",
    "plt.plot(history.history['specificity'])\n",
    "plt.plot(history.history['val_specificity'])\n",
    "plt.title('Model Specificity score vs. epochs')\n",
    "plt.ylabel('Specificity')\n",
    "plt.xlabel('epochs')\n",
    "plt.legend(['train', 'test'], loc='lower right')\n",
    "plt.show()\n",
    "\n"
   ]
  },
  {
   "cell_type": "code",
   "execution_count": 30,
   "metadata": {
    "colab": {
     "base_uri": "https://localhost:8080/",
     "height": 295
    },
    "id": "ZvTSf9t7SceH",
    "outputId": "cc46a87d-f834-4579-c9a1-8fd96d947506"
   },
   "outputs": [
    {
     "data": {
      "image/png": "[encoded data removed]",
      "text/plain": [
       "<Figure size 432x288 with 1 Axes>"
      ]
     },
     "metadata": {
      "needs_background": "light"
     },
     "output_type": "display_data"
    }
   ],
   "source": [
    "# summarize history for f1 score\n",
    "plt.plot(history.history['f1'])\n",
    "plt.plot(history.history['val_f1'])\n",
    "plt.title('Model F1 score vs. epochs')\n",
    "plt.ylabel('F1')\n",
    "plt.xlabel('epochs')\n",
    "plt.legend(['train', 'test'], loc='lower right')\n",
    "plt.show()\n",
    "\n"
   ]
  },
  {
   "cell_type": "code",
   "execution_count": 34,
   "metadata": {
    "colab": {
     "base_uri": "https://localhost:8080/",
     "height": 295
    },
    "id": "qZS8blbDSceJ",
    "outputId": "4fc4dc48-0a69-41a8-a706-d6305caab4b0"
   },
   "outputs": [
    {
     "data": {
      "image/png": "[encoded data removed]",
      "text/plain": [
       "<Figure size 432x288 with 1 Axes>"
      ]
     },
     "metadata": {
      "needs_background": "light"
     },
     "output_type": "display_data"
    }
   ],
   "source": [
    "# summarize history for accuracy\n",
    "plt.plot(history.history['accuracy'])\n",
    "plt.plot(history.history['val_accuracy'])\n",
    "plt.title('Model accuracy vs. epochs')\n",
    "plt.ylabel('accuracy')\n",
    "plt.xlabel('epochs')\n",
    "plt.legend(['train', 'test'], loc='lower right')\n",
    "plt.show()\n",
    "\n"
   ]
  },
  {
   "cell_type": "code",
   "execution_count": 35,
   "metadata": {
    "colab": {
     "base_uri": "https://localhost:8080/",
     "height": 295
    },
    "id": "iCZYpw-1SceN",
    "outputId": "5e6ebdac-1fce-460c-de32-5dbf9d6205bb"
   },
   "outputs": [
    {
     "data": {
      "image/png": "[encoded data removed]",
      "text/plain": [
       "<Figure size 432x288 with 1 Axes>"
      ]
     },
     "metadata": {
      "needs_background": "light"
     },
     "output_type": "display_data"
    }
   ],
   "source": [
    "# summarize history for loss\n",
    "plt.plot(history.history['loss'])\n",
    "plt.plot(history.history['val_loss'])\n",
    "plt.title('Model loss vs. epochs')\n",
    "plt.ylabel('loss')\n",
    "plt.xlabel('epochs')\n",
    "plt.legend(['train', 'test'], loc='lower right')\n",
    "plt.show()"
   ]
  },
  {
   "cell_type": "markdown",
   "metadata": {},
   "source": [
    "<h1>PREDICTING ON THE TEST DATA WITH MODEL WITH THE BEST WEIGHTS</h1>"
   ]
  },
  {
   "cell_type": "code",
   "execution_count": 40,
   "metadata": {},
   "outputs": [],
   "source": [
    "test_gen=ImageDataGenerator()"
   ]
  },
  {
   "cell_type": "code",
   "execution_count": 41,
   "metadata": {
    "colab": {
     "base_uri": "https://localhost:8080/",
     "height": 34
    },
    "id": "qipiL82HVcpy",
    "outputId": "01e44ddd-ab01-4c4e-8a7a-73ed4ac8bafc"
   },
   "outputs": [
    {
     "name": "stdout",
     "output_type": "stream",
     "text": [
      "Found 3290 images belonging to 2 classes.\n"
     ]
    }
   ],
   "source": [
    "test_generator = test_gen.flow_from_directory(\n",
    "        test_path,\n",
    "        target_size=(img_size, img_size),\n",
    "        batch_size=32,\n",
    "        color_mode=\"rgb\",\n",
    "        class_mode='binary',\n",
    "        shuffle=False,\n",
    "        \n",
    ")"
   ]
  },
  {
   "cell_type": "code",
   "execution_count": 42,
   "metadata": {
    "id": "sHOQhrU0Vcp7"
   },
   "outputs": [],
   "source": [
    "model = generate_model()"
   ]
  },
  {
   "cell_type": "markdown",
   "metadata": {},
   "source": [
    "<h2>LOADING THE BEST WEIGHTS</h2>"
   ]
  },
  {
   "cell_type": "code",
   "execution_count": 43,
   "metadata": {
    "id": "O22a5E0BVcp-"
   },
   "outputs": [],
   "source": [
    "model.load_weights(train_path + '/nn_best_model_cv_val_fmed.h5')"
   ]
  },
  {
   "cell_type": "code",
   "execution_count": 45,
   "metadata": {
    "id": "KUWoYoAHVcqB"
   },
   "outputs": [],
   "source": [
    "probabilities = model.predict(test_generator)\n",
    "y_true = test_generator.classes\n",
    "y_pred = probabilities > 0.5"
   ]
  },
  {
   "cell_type": "markdown",
   "metadata": {},
   "source": [
    "<h1>CONFUSION MATRIX SHOWING RESULTS OF THE PREDICTIONS</h1>"
   ]
  },
  {
   "cell_type": "code",
   "execution_count": 46,
   "metadata": {
    "colab": {
     "base_uri": "https://localhost:8080/",
     "height": 51
    },
    "id": "0ahPh-ZZVcqE",
    "outputId": "7ccf71eb-2baf-47aa-e678-86c32965ce68"
   },
   "outputs": [
    {
     "data": {
      "text/plain": [
       "array([[1594,   66],\n",
       "       [ 169, 1461]], dtype=int64)"
      ]
     },
     "execution_count": 46,
     "metadata": {},
     "output_type": "execute_result"
    }
   ],
   "source": [
    "confusion_matrix(y_true, y_pred)"
   ]
  },
  {
   "cell_type": "code",
   "execution_count": 47,
   "metadata": {
    "id": "tMJVPzooVcqH"
   },
   "outputs": [],
   "source": [
    "tn, fp, fn, tp = confusion_matrix(y_true, y_pred).ravel()"
   ]
  },
  {
   "cell_type": "markdown",
   "metadata": {},
   "source": [
    "<h1>PERCENTAGE OF SPECIFICITY AND SENSITIVITY</h1>"
   ]
  },
  {
   "cell_type": "code",
   "execution_count": 48,
   "metadata": {
    "colab": {
     "base_uri": "https://localhost:8080/",
     "height": 34
    },
    "id": "fyMyXXyIVcqL",
    "outputId": "d22e461d-c3ed-4b17-9a4a-0a6529932803"
   },
   "outputs": [
    {
     "data": {
      "text/plain": [
       "0.9602409638554217"
      ]
     },
     "execution_count": 48,
     "metadata": {},
     "output_type": "execute_result"
    }
   ],
   "source": [
    "specificity = tn / (tn+fp)\n",
    "specificity"
   ]
  },
  {
   "cell_type": "code",
   "execution_count": 57,
   "metadata": {
    "colab": {
     "base_uri": "https://localhost:8080/",
     "height": 34
    },
    "id": "nV33ZEskVcqN",
    "outputId": "cf2405a4-a16d-44be-f1d1-a0d8432556ff"
   },
   "outputs": [
    {
     "data": {
      "text/plain": [
       "0.896319018404908"
      ]
     },
     "execution_count": 57,
     "metadata": {},
     "output_type": "execute_result"
    }
   ],
   "source": [
    "sensitivity = tp / (tp + fn)\n",
    "sensitivity"
   ]
  },
  {
   "cell_type": "code",
   "execution_count": 52,
   "metadata": {},
   "outputs": [],
   "source": []
  },
  {
   "cell_type": "markdown",
   "metadata": {
    "id": "iXW1BjhZRuyr"
   },
   "source": [
    "<h1>TRAINING NEW MODEL WITH SDG OPTIMISER FOR COMPARISON WITH MODEL USING ADAM </h1>"
   ]
  },
  {
   "cell_type": "code",
   "execution_count": null,
   "metadata": {},
   "outputs": [],
   "source": []
  },
  {
   "cell_type": "code",
   "execution_count": 64,
   "metadata": {},
   "outputs": [],
   "source": [
    "def sensitivity(y_true, y_pred):\n",
    "  true_positives = K.sum(K.round(K.clip(y_true * y_pred, 0, 1)))\n",
    "  possible_positives = K.sum(K.round(K.clip(y_true, 0, 1)))\n",
    "  return true_positives / (possible_positives + K.epsilon())\n",
    "\n",
    "def specificity(y_true, y_pred):\n",
    "  true_negatives = K.sum(K.round(K.clip((1-y_true) * (1-y_pred), 0, 1)))\n",
    "  possible_negatives = K.sum(K.round(K.clip(1-y_true, 0, 1)))\n",
    "  return true_negatives / (possible_negatives + K.epsilon())\n",
    "\n",
    "def fmed(y_true, y_pred):\n",
    "  spec = specificity(y_true, y_pred)\n",
    "  sens = sensitivity(y_true, y_pred)\n",
    "  fmed = 2 * (spec * sens)/(spec+sens+K.epsilon())\n",
    "  return fmed\n",
    "\n",
    "def f1(y_true, y_pred):\n",
    "  true_positives = K.sum(K.round(K.clip(y_true * y_pred, 0, 1)))\n",
    "  possible_positives = K.sum(K.round(K.clip(y_true, 0, 1)))\n",
    "  predicted_positives = K.sum(K.round(K.clip(y_pred, 0, 1)))\n",
    "  precision = true_positives / (predicted_positives + K.epsilon())\n",
    "  recall = true_positives / (possible_positives + K.epsilon())\n",
    "  f1_val = 2*(precision*recall)/(precision+recall+K.epsilon())\n",
    "  return f1_val\n",
    "\n",
    "def generate_model(opt = tf.keras.optimizers.SGD(learning_rate=0.01, nesterov=True)):\n",
    "    \n",
    "    model = Sequential()\n",
    "    model.add(Conv2D(64, (3, 3), input_shape=X_train.shape[1:]))\n",
    "    model.add(Activation('relu'))\n",
    "    model.add(MaxPooling2D(pool_size=(2, 2)))\n",
    "\n",
    "    \n",
    "    model.add(Conv2D(64, (3,3)))\n",
    "    model.add(Activation('relu'))\n",
    "    model.add(MaxPooling2D(pool_size=(2, 2)))\n",
    "\n",
    "\n",
    "    model.add(Conv2D(64, (3,3)))\n",
    "    model.add(Activation('relu'))\n",
    "    model.add(MaxPooling2D(pool_size=(2, 2)))\n",
    "\n",
    "\n",
    "    model.add(Flatten())\n",
    "    model.add(Dense(64))\n",
    "    model.add(Activation('relu'))\n",
    "    model.add(Dropout(0.5))\n",
    "\n",
    "    model.add(Dense(64))\n",
    "    model.add(Activation('relu'))\n",
    "    model.add(Dropout(0.5))\n",
    "\n",
    "    model.add(Dense(1))\n",
    "    model.add(Activation('sigmoid'))    \n",
    "    \n",
    "    model.compile(loss='binary_crossentropy',\n",
    "              optimizer=opt,\n",
    "              metrics=['accuracy', sensitivity, specificity, fmed, f1])\n",
    "    return model"
   ]
  },
  {
   "cell_type": "code",
   "execution_count": 65,
   "metadata": {
    "colab": {
     "base_uri": "https://localhost:8080/",
     "height": 1000
    },
    "id": "L6qgAtLUNrIK",
    "outputId": "d056a562-2786-47d1-e1d4-03e2b62e3253"
   },
   "outputs": [
    {
     "name": "stdout",
     "output_type": "stream",
     "text": [
      "Epoch 1/50\n",
      "533/533 [==============================] - ETA: 0s - loss: 0.6842 - accuracy: 0.5630 - sensitivity: 0.9684 - specificity: 0.0370 - fmed: 0.0576 - f1: 0.7093\n",
      "Epoch 00001: val_fmed improved from -inf to 0.00000, saving model to C:/Users/mwangit/Desktop/projects/datasetss/dataset/train\\nn_best_model_cv_val_fmed_sgd.h5\n",
      "533/533 [==============================] - 464s 870ms/step - loss: 0.6842 - accuracy: 0.5630 - sensitivity: 0.9684 - specificity: 0.0370 - fmed: 0.0576 - f1: 0.7093 - val_loss: 0.6726 - val_accuracy: 0.5803 - val_sensitivity: 1.0000 - val_specificity: 0.0000e+00 - val_fmed: 0.0000e+00 - val_f1: 0.7303\n",
      "Epoch 2/50\n",
      "533/533 [==============================] - ETA: 0s - loss: 0.6713 - accuracy: 0.5918 - sensitivity: 0.9018 - specificity: 0.1902 - fmed: 0.2885 - f1: 0.7090\n",
      "Epoch 00002: val_fmed improved from 0.00000 to 0.08237, saving model to C:/Users/mwangit/Desktop/projects/datasetss/dataset/train\\nn_best_model_cv_val_fmed_sgd.h5\n",
      "533/533 [==============================] - 448s 840ms/step - loss: 0.6713 - accuracy: 0.5918 - sensitivity: 0.9018 - specificity: 0.1902 - fmed: 0.2885 - f1: 0.7090 - val_loss: 0.6573 - val_accuracy: 0.5937 - val_sensitivity: 0.9884 - val_specificity: 0.0467 - val_fmed: 0.0824 - val_f1: 0.7343\n",
      "Epoch 3/50\n",
      "533/533 [==============================] - ETA: 0s - loss: 0.6453 - accuracy: 0.6335 - sensitivity: 0.8467 - specificity: 0.3598 - fmed: 0.4768 - f1: 0.7184\n",
      "Epoch 00003: val_fmed improved from 0.08237 to 0.66344, saving model to C:/Users/mwangit/Desktop/projects/datasetss/dataset/train\\nn_best_model_cv_val_fmed_sgd.h5\n",
      "533/533 [==============================] - 458s 858ms/step - loss: 0.6453 - accuracy: 0.6335 - sensitivity: 0.8467 - specificity: 0.3598 - fmed: 0.4768 - f1: 0.7184 - val_loss: 0.6219 - val_accuracy: 0.6761 - val_sensitivity: 0.6405 - val_specificity: 0.7202 - val_fmed: 0.6634 - val_f1: 0.6883\n",
      "Epoch 4/50\n",
      "533/533 [==============================] - ETA: 0s - loss: 0.6060 - accuracy: 0.6822 - sensitivity: 0.8177 - specificity: 0.5051 - fmed: 0.6034 - f1: 0.7379\n",
      "Epoch 00004: val_fmed did not improve from 0.66344\n",
      "533/533 [==============================] - 446s 836ms/step - loss: 0.6060 - accuracy: 0.6822 - sensitivity: 0.8177 - specificity: 0.5051 - fmed: 0.6034 - f1: 0.7379 - val_loss: 0.5298 - val_accuracy: 0.7457 - val_sensitivity: 0.9126 - val_specificity: 0.5077 - val_fmed: 0.6364 - val_f1: 0.8022\n",
      "Epoch 5/50\n",
      "533/533 [==============================] - ETA: 0s - loss: 0.5558 - accuracy: 0.7265 - sensitivity: 0.8267 - specificity: 0.5998 - fmed: 0.6818 - f1: 0.7682\n",
      "Epoch 00005: val_fmed improved from 0.66344 to 0.74801, saving model to C:/Users/mwangit/Desktop/projects/datasetss/dataset/train\\nn_best_model_cv_val_fmed_sgd.h5\n",
      "533/533 [==============================] - 470s 882ms/step - loss: 0.5558 - accuracy: 0.7265 - sensitivity: 0.8267 - specificity: 0.5998 - fmed: 0.6818 - f1: 0.7682 - val_loss: 0.4758 - val_accuracy: 0.7738 - val_sensitivity: 0.8347 - val_specificity: 0.6917 - val_fmed: 0.7480 - val_f1: 0.8089\n",
      "Epoch 6/50\n",
      "533/533 [==============================] - ETA: 0s - loss: 0.5083 - accuracy: 0.7568 - sensitivity: 0.8456 - specificity: 0.6427 - fmed: 0.7186 - f1: 0.7924\n",
      "Epoch 00006: val_fmed did not improve from 0.74801\n",
      "533/533 [==============================] - 447s 838ms/step - loss: 0.5083 - accuracy: 0.7568 - sensitivity: 0.8456 - specificity: 0.6427 - fmed: 0.7186 - f1: 0.7924 - val_loss: 0.4738 - val_accuracy: 0.7696 - val_sensitivity: 0.9308 - val_specificity: 0.5451 - val_fmed: 0.6714 - val_f1: 0.8201\n",
      "Epoch 7/50\n",
      "533/533 [==============================] - ETA: 0s - loss: 0.4749 - accuracy: 0.7720 - sensitivity: 0.8683 - specificity: 0.6474 - fmed: 0.7303 - f1: 0.8071\n",
      "Epoch 00007: val_fmed improved from 0.74801 to 0.75539, saving model to C:/Users/mwangit/Desktop/projects/datasetss/dataset/train\\nn_best_model_cv_val_fmed_sgd.h5\n",
      "533/533 [==============================] - 463s 868ms/step - loss: 0.4749 - accuracy: 0.7720 - sensitivity: 0.8683 - specificity: 0.6474 - fmed: 0.7303 - f1: 0.8071 - val_loss: 0.4243 - val_accuracy: 0.7983 - val_sensitivity: 0.8751 - val_specificity: 0.6866 - val_fmed: 0.7554 - val_f1: 0.8303\n",
      "Epoch 8/50\n",
      "533/533 [==============================] - ETA: 0s - loss: 0.4526 - accuracy: 0.7800 - sensitivity: 0.8898 - specificity: 0.6388 - fmed: 0.7326 - f1: 0.8171\n",
      "Epoch 00008: val_fmed did not improve from 0.75539\n",
      "533/533 [==============================] - 488s 915ms/step - loss: 0.4526 - accuracy: 0.7800 - sensitivity: 0.8898 - specificity: 0.6388 - fmed: 0.7326 - f1: 0.8171 - val_loss: 0.4137 - val_accuracy: 0.8008 - val_sensitivity: 0.9405 - val_specificity: 0.6051 - val_fmed: 0.7215 - val_f1: 0.8420\n",
      "Epoch 9/50\n",
      "533/533 [==============================] - ETA: 0s - loss: 0.4337 - accuracy: 0.7917 - sensitivity: 0.9038 - specificity: 0.6488 - fmed: 0.7448 - f1: 0.8265\n",
      "Epoch 00009: val_fmed improved from 0.75539 to 0.77082, saving model to C:/Users/mwangit/Desktop/projects/datasetss/dataset/train\\nn_best_model_cv_val_fmed_sgd.h5\n",
      "533/533 [==============================] - 485s 911ms/step - loss: 0.4337 - accuracy: 0.7917 - sensitivity: 0.9038 - specificity: 0.6488 - fmed: 0.7448 - f1: 0.8265 - val_loss: 0.4006 - val_accuracy: 0.8147 - val_sensitivity: 0.8971 - val_specificity: 0.6952 - val_fmed: 0.7708 - val_f1: 0.8451\n",
      "Epoch 10/50\n",
      "533/533 [==============================] - ETA: 0s - loss: 0.4184 - accuracy: 0.7925 - sensitivity: 0.9003 - specificity: 0.6490 - fmed: 0.7434 - f1: 0.8265\n",
      "Epoch 00010: val_fmed improved from 0.77082 to 0.77554, saving model to C:/Users/mwangit/Desktop/projects/datasetss/dataset/train\\nn_best_model_cv_val_fmed_sgd.h5\n",
      "533/533 [==============================] - 472s 886ms/step - loss: 0.4184 - accuracy: 0.7925 - sensitivity: 0.9003 - specificity: 0.6490 - fmed: 0.7434 - f1: 0.8265 - val_loss: 0.3766 - val_accuracy: 0.8140 - val_sensitivity: 0.8999 - val_specificity: 0.6986 - val_fmed: 0.7755 - val_f1: 0.8478\n",
      "Epoch 11/50\n",
      "533/533 [==============================] - ETA: 0s - loss: 0.4073 - accuracy: 0.7970 - sensitivity: 0.9092 - specificity: 0.6539 - fmed: 0.7515 - f1: 0.8319\n",
      "Epoch 00011: val_fmed improved from 0.77554 to 0.78258, saving model to C:/Users/mwangit/Desktop/projects/datasetss/dataset/train\\nn_best_model_cv_val_fmed_sgd.h5\n",
      "533/533 [==============================] - 482s 904ms/step - loss: 0.4073 - accuracy: 0.7970 - sensitivity: 0.9092 - specificity: 0.6539 - fmed: 0.7515 - f1: 0.8319 - val_loss: 0.3681 - val_accuracy: 0.8171 - val_sensitivity: 0.8960 - val_specificity: 0.7099 - val_fmed: 0.7826 - val_f1: 0.8495\n",
      "Epoch 12/50\n",
      "533/533 [==============================] - ETA: 0s - loss: 0.3962 - accuracy: 0.8007 - sensitivity: 0.9053 - specificity: 0.6654 - fmed: 0.7575 - f1: 0.8331\n",
      "Epoch 00012: val_fmed did not improve from 0.78258\n",
      "533/533 [==============================] - 479s 899ms/step - loss: 0.3962 - accuracy: 0.8007 - sensitivity: 0.9053 - specificity: 0.6654 - fmed: 0.7575 - f1: 0.8331 - val_loss: 0.8937 - val_accuracy: 0.7055 - val_sensitivity: 0.9813 - val_specificity: 0.3221 - val_fmed: 0.4684 - val_f1: 0.7903\n",
      "Epoch 13/50\n",
      "533/533 [==============================] - ETA: 0s - loss: 0.3909 - accuracy: 0.8042 - sensitivity: 0.9149 - specificity: 0.6564 - fmed: 0.7543 - f1: 0.8371\n",
      "Epoch 00013: val_fmed did not improve from 0.78258\n",
      "533/533 [==============================] - 472s 885ms/step - loss: 0.3909 - accuracy: 0.8042 - sensitivity: 0.9149 - specificity: 0.6564 - fmed: 0.7543 - f1: 0.8371 - val_loss: 0.4123 - val_accuracy: 0.8046 - val_sensitivity: 0.9433 - val_specificity: 0.6125 - val_fmed: 0.7288 - val_f1: 0.8447\n",
      "Epoch 14/50\n",
      "533/533 [==============================] - ETA: 0s - loss: 0.3779 - accuracy: 0.8071 - sensitivity: 0.9132 - specificity: 0.6701 - fmed: 0.7632 - f1: 0.8390\n",
      "Epoch 00014: val_fmed did not improve from 0.78258\n",
      "533/533 [==============================] - 476s 893ms/step - loss: 0.3779 - accuracy: 0.8071 - sensitivity: 0.9132 - specificity: 0.6701 - fmed: 0.7632 - f1: 0.8390 - val_loss: 0.3454 - val_accuracy: 0.8307 - val_sensitivity: 0.9298 - val_specificity: 0.6886 - val_fmed: 0.7790 - val_f1: 0.8608\n",
      "Epoch 15/50\n",
      "533/533 [==============================] - ETA: 0s - loss: 0.3683 - accuracy: 0.8127 - sensitivity: 0.9197 - specificity: 0.6753 - fmed: 0.7700 - f1: 0.8439\n",
      "Epoch 00015: val_fmed improved from 0.78258 to 0.78304, saving model to C:/Users/mwangit/Desktop/projects/datasetss/dataset/train\\nn_best_model_cv_val_fmed_sgd.h5\n",
      "533/533 [==============================] - 475s 891ms/step - loss: 0.3683 - accuracy: 0.8127 - sensitivity: 0.9197 - specificity: 0.6753 - fmed: 0.7700 - f1: 0.8439 - val_loss: 0.3581 - val_accuracy: 0.8168 - val_sensitivity: 0.8822 - val_specificity: 0.7225 - val_fmed: 0.7830 - val_f1: 0.8443\n",
      "Epoch 16/50\n",
      "533/533 [==============================] - ETA: 0s - loss: 0.3596 - accuracy: 0.8173 - sensitivity: 0.9190 - specificity: 0.6852 - fmed: 0.7767 - f1: 0.8466\n",
      "Epoch 00016: val_fmed improved from 0.78304 to 0.79708, saving model to C:/Users/mwangit/Desktop/projects/datasetss/dataset/train\\nn_best_model_cv_val_fmed_sgd.h5\n",
      "533/533 [==============================] - 499s 936ms/step - loss: 0.3596 - accuracy: 0.8173 - sensitivity: 0.9190 - specificity: 0.6852 - fmed: 0.7767 - f1: 0.8466 - val_loss: 0.3407 - val_accuracy: 0.8314 - val_sensitivity: 0.9113 - val_specificity: 0.7229 - val_fmed: 0.7971 - val_f1: 0.8609\n",
      "Epoch 17/50\n",
      "533/533 [==============================] - ETA: 0s - loss: 0.3546 - accuracy: 0.8221 - sensitivity: 0.9229 - specificity: 0.6914 - fmed: 0.7821 - f1: 0.8510\n",
      "Epoch 00017: val_fmed did not improve from 0.79708\n",
      "533/533 [==============================] - 485s 909ms/step - loss: 0.3546 - accuracy: 0.8221 - sensitivity: 0.9229 - specificity: 0.6914 - fmed: 0.7821 - f1: 0.8510 - val_loss: 0.3758 - val_accuracy: 0.8131 - val_sensitivity: 0.9307 - val_specificity: 0.6431 - val_fmed: 0.7478 - val_f1: 0.8486\n",
      "Epoch 18/50\n",
      "533/533 [==============================] - ETA: 0s - loss: 0.3618 - accuracy: 0.8123 - sensitivity: 0.9196 - specificity: 0.6733 - fmed: 0.7684 - f1: 0.8429\n",
      "Epoch 00018: val_fmed improved from 0.79708 to 0.79954, saving model to C:/Users/mwangit/Desktop/projects/datasetss/dataset/train\\nn_best_model_cv_val_fmed_sgd.h5\n",
      "533/533 [==============================] - 461s 865ms/step - loss: 0.3618 - accuracy: 0.8123 - sensitivity: 0.9196 - specificity: 0.6733 - fmed: 0.7684 - f1: 0.8429 - val_loss: 0.3349 - val_accuracy: 0.8267 - val_sensitivity: 0.8939 - val_specificity: 0.7370 - val_fmed: 0.7995 - val_f1: 0.8552\n",
      "Epoch 19/50\n",
      "533/533 [==============================] - ETA: 0s - loss: 0.3420 - accuracy: 0.8234 - sensitivity: 0.9178 - specificity: 0.6990 - fmed: 0.7857 - f1: 0.8502\n",
      "Epoch 00019: val_fmed improved from 0.79954 to 0.80082, saving model to C:/Users/mwangit/Desktop/projects/datasetss/dataset/train\\nn_best_model_cv_val_fmed_sgd.h5\n",
      "533/533 [==============================] - 461s 864ms/step - loss: 0.3420 - accuracy: 0.8234 - sensitivity: 0.9178 - specificity: 0.6990 - fmed: 0.7857 - f1: 0.8502 - val_loss: 0.3680 - val_accuracy: 0.8119 - val_sensitivity: 0.8375 - val_specificity: 0.7798 - val_fmed: 0.8008 - val_f1: 0.8363\n",
      "Epoch 20/50\n",
      "533/533 [==============================] - ETA: 0s - loss: 0.3386 - accuracy: 0.8213 - sensitivity: 0.9225 - specificity: 0.6904 - fmed: 0.7820 - f1: 0.8503\n",
      "Epoch 00020: val_fmed improved from 0.80082 to 0.80113, saving model to C:/Users/mwangit/Desktop/projects/datasetss/dataset/train\\nn_best_model_cv_val_fmed_sgd.h5\n",
      "533/533 [==============================] - 473s 887ms/step - loss: 0.3386 - accuracy: 0.8213 - sensitivity: 0.9225 - specificity: 0.6904 - fmed: 0.7820 - f1: 0.8503 - val_loss: 0.3242 - val_accuracy: 0.8290 - val_sensitivity: 0.8961 - val_specificity: 0.7381 - val_fmed: 0.8011 - val_f1: 0.8573\n",
      "Epoch 21/50\n",
      "533/533 [==============================] - ETA: 0s - loss: 0.3284 - accuracy: 0.8295 - sensitivity: 0.9259 - specificity: 0.7040 - fmed: 0.7919 - f1: 0.8566\n",
      "Epoch 00021: val_fmed improved from 0.80113 to 0.80832, saving model to C:/Users/mwangit/Desktop/projects/datasetss/dataset/train\\nn_best_model_cv_val_fmed_sgd.h5\n",
      "533/533 [==============================] - 463s 868ms/step - loss: 0.3284 - accuracy: 0.8295 - sensitivity: 0.9259 - specificity: 0.7040 - fmed: 0.7919 - f1: 0.8566 - val_loss: 0.3216 - val_accuracy: 0.8443 - val_sensitivity: 0.9300 - val_specificity: 0.7278 - val_fmed: 0.8083 - val_f1: 0.8723\n",
      "Epoch 22/50\n",
      "533/533 [==============================] - ETA: 0s - loss: 0.3245 - accuracy: 0.8275 - sensitivity: 0.9208 - specificity: 0.7062 - fmed: 0.7913 - f1: 0.8543\n",
      "Epoch 00022: val_fmed did not improve from 0.80832\n",
      "533/533 [==============================] - 467s 876ms/step - loss: 0.3245 - accuracy: 0.8275 - sensitivity: 0.9208 - specificity: 0.7062 - fmed: 0.7913 - f1: 0.8543 - val_loss: 0.3219 - val_accuracy: 0.8316 - val_sensitivity: 0.9498 - val_specificity: 0.6696 - val_fmed: 0.7769 - val_f1: 0.8660\n",
      "Epoch 23/50\n",
      "533/533 [==============================] - ETA: 0s - loss: 0.3185 - accuracy: 0.8329 - sensitivity: 0.9217 - specificity: 0.7187 - fmed: 0.8002 - f1: 0.8596\n",
      "Epoch 00023: val_fmed did not improve from 0.80832\n",
      "533/533 [==============================] - 465s 873ms/step - loss: 0.3185 - accuracy: 0.8329 - sensitivity: 0.9217 - specificity: 0.7187 - fmed: 0.8002 - f1: 0.8596 - val_loss: 0.3226 - val_accuracy: 0.8316 - val_sensitivity: 0.8988 - val_specificity: 0.7395 - val_fmed: 0.8030 - val_f1: 0.8591\n",
      "Epoch 24/50\n",
      "533/533 [==============================] - ETA: 0s - loss: 0.3154 - accuracy: 0.8316 - sensitivity: 0.9004 - specificity: 0.7395 - fmed: 0.8043 - f1: 0.8534\n",
      "Epoch 00024: val_fmed did not improve from 0.80832\n",
      "533/533 [==============================] - 456s 856ms/step - loss: 0.3154 - accuracy: 0.8316 - sensitivity: 0.9004 - specificity: 0.7395 - fmed: 0.8043 - f1: 0.8534 - val_loss: 1.0817 - val_accuracy: 0.7236 - val_sensitivity: 0.6238 - val_specificity: 0.8649 - val_fmed: 0.7154 - val_f1: 0.7185\n",
      "Epoch 25/50\n",
      "533/533 [==============================] - ETA: 0s - loss: 0.3228 - accuracy: 0.8336 - sensitivity: 0.9112 - specificity: 0.7343 - fmed: 0.8058 - f1: 0.8582\n",
      "Epoch 00025: val_fmed improved from 0.80832 to 0.81262, saving model to C:/Users/mwangit/Desktop/projects/datasetss/dataset/train\\nn_best_model_cv_val_fmed_sgd.h5\n",
      "533/533 [==============================] - 460s 862ms/step - loss: 0.3228 - accuracy: 0.8336 - sensitivity: 0.9112 - specificity: 0.7343 - fmed: 0.8058 - f1: 0.8582 - val_loss: 0.3000 - val_accuracy: 0.8466 - val_sensitivity: 0.9241 - val_specificity: 0.7399 - val_fmed: 0.8126 - val_f1: 0.8735\n",
      "Epoch 26/50\n",
      "533/533 [==============================] - ETA: 0s - loss: 0.3080 - accuracy: 0.8334 - sensitivity: 0.9038 - specificity: 0.7432 - fmed: 0.8096 - f1: 0.8560\n",
      "Epoch 00026: val_fmed improved from 0.81262 to 0.81528, saving model to C:/Users/mwangit/Desktop/projects/datasetss/dataset/train\\nn_best_model_cv_val_fmed_sgd.h5\n",
      "533/533 [==============================] - 484s 907ms/step - loss: 0.3080 - accuracy: 0.8334 - sensitivity: 0.9038 - specificity: 0.7432 - fmed: 0.8096 - f1: 0.8560 - val_loss: 0.3113 - val_accuracy: 0.8422 - val_sensitivity: 0.8954 - val_specificity: 0.7638 - val_fmed: 0.8153 - val_f1: 0.8644\n",
      "Epoch 27/50\n",
      "533/533 [==============================] - ETA: 0s - loss: 0.3063 - accuracy: 0.8373 - sensitivity: 0.9044 - specificity: 0.7489 - fmed: 0.8124 - f1: 0.8595\n",
      "Epoch 00027: val_fmed improved from 0.81528 to 0.81962, saving model to C:/Users/mwangit/Desktop/projects/datasetss/dataset/train\\nn_best_model_cv_val_fmed_sgd.h5\n",
      "533/533 [==============================] - 489s 917ms/step - loss: 0.3063 - accuracy: 0.8373 - sensitivity: 0.9044 - specificity: 0.7489 - fmed: 0.8124 - f1: 0.8595 - val_loss: 0.2970 - val_accuracy: 0.8513 - val_sensitivity: 0.9293 - val_specificity: 0.7453 - val_fmed: 0.8196 - val_f1: 0.8772\n",
      "Epoch 28/50\n",
      "533/533 [==============================] - ETA: 0s - loss: 0.3002 - accuracy: 0.8383 - sensitivity: 0.8940 - specificity: 0.7668 - fmed: 0.8187 - f1: 0.8586\n",
      "Epoch 00028: val_fmed improved from 0.81962 to 0.83130, saving model to C:/Users/mwangit/Desktop/projects/datasetss/dataset/train\\nn_best_model_cv_val_fmed_sgd.h5\n",
      "533/533 [==============================] - 458s 859ms/step - loss: 0.3002 - accuracy: 0.8383 - sensitivity: 0.8940 - specificity: 0.7668 - fmed: 0.8187 - f1: 0.8586 - val_loss: 0.2996 - val_accuracy: 0.8429 - val_sensitivity: 0.8756 - val_specificity: 0.8017 - val_fmed: 0.8313 - val_f1: 0.8644\n"
     ]
    },
    {
     "name": "stdout",
     "output_type": "stream",
     "text": [
      "Epoch 29/50\n",
      "533/533 [==============================] - ETA: 0s - loss: 0.2956 - accuracy: 0.8437 - sensitivity: 0.8765 - specificity: 0.8027 - fmed: 0.8321 - f1: 0.8602\n",
      "Epoch 00029: val_fmed improved from 0.83130 to 0.83517, saving model to C:/Users/mwangit/Desktop/projects/datasetss/dataset/train\\nn_best_model_cv_val_fmed_sgd.h5\n",
      "533/533 [==============================] - 457s 858ms/step - loss: 0.2956 - accuracy: 0.8437 - sensitivity: 0.8765 - specificity: 0.8027 - fmed: 0.8321 - f1: 0.8602 - val_loss: 0.3023 - val_accuracy: 0.8481 - val_sensitivity: 0.8866 - val_specificity: 0.8003 - val_fmed: 0.8352 - val_f1: 0.8698\n",
      "Epoch 30/50\n",
      "533/533 [==============================] - ETA: 0s - loss: 0.2952 - accuracy: 0.8443 - sensitivity: 0.8754 - specificity: 0.8040 - fmed: 0.8320 - f1: 0.8607\n",
      "Epoch 00030: val_fmed improved from 0.83517 to 0.83681, saving model to C:/Users/mwangit/Desktop/projects/datasetss/dataset/train\\nn_best_model_cv_val_fmed_sgd.h5\n",
      "533/533 [==============================] - 455s 854ms/step - loss: 0.2952 - accuracy: 0.8443 - sensitivity: 0.8754 - specificity: 0.8040 - fmed: 0.8320 - f1: 0.8607 - val_loss: 0.2868 - val_accuracy: 0.8553 - val_sensitivity: 0.9046 - val_specificity: 0.7897 - val_fmed: 0.8368 - val_f1: 0.8778\n",
      "Epoch 31/50\n",
      "533/533 [==============================] - ETA: 0s - loss: 0.2859 - accuracy: 0.8481 - sensitivity: 0.8717 - specificity: 0.8184 - fmed: 0.8390 - f1: 0.8629\n",
      "Epoch 00031: val_fmed did not improve from 0.83681\n",
      "533/533 [==============================] - 480s 900ms/step - loss: 0.2859 - accuracy: 0.8481 - sensitivity: 0.8717 - specificity: 0.8184 - fmed: 0.8390 - f1: 0.8629 - val_loss: 0.2920 - val_accuracy: 0.8476 - val_sensitivity: 0.8968 - val_specificity: 0.7822 - val_fmed: 0.8283 - val_f1: 0.8708\n",
      "Epoch 32/50\n",
      "533/533 [==============================] - ETA: 0s - loss: 0.2851 - accuracy: 0.8483 - sensitivity: 0.8599 - specificity: 0.8336 - fmed: 0.8411 - f1: 0.8611\n",
      "Epoch 00032: val_fmed did not improve from 0.83681\n",
      "533/533 [==============================] - 452s 849ms/step - loss: 0.2851 - accuracy: 0.8483 - sensitivity: 0.8599 - specificity: 0.8336 - fmed: 0.8411 - f1: 0.8611 - val_loss: 0.3346 - val_accuracy: 0.8422 - val_sensitivity: 0.8708 - val_specificity: 0.8064 - val_fmed: 0.8317 - val_f1: 0.8635\n",
      "Epoch 33/50\n",
      "533/533 [==============================] - ETA: 0s - loss: 0.2789 - accuracy: 0.8532 - sensitivity: 0.8563 - specificity: 0.8496 - fmed: 0.8470 - f1: 0.8637\n",
      "Epoch 00033: val_fmed improved from 0.83681 to 0.84625, saving model to C:/Users/mwangit/Desktop/projects/datasetss/dataset/train\\nn_best_model_cv_val_fmed_sgd.h5\n",
      "533/533 [==============================] - 462s 868ms/step - loss: 0.2789 - accuracy: 0.8532 - sensitivity: 0.8563 - specificity: 0.8496 - fmed: 0.8470 - f1: 0.8637 - val_loss: 0.2923 - val_accuracy: 0.8551 - val_sensitivity: 0.8777 - val_specificity: 0.8267 - val_fmed: 0.8462 - val_f1: 0.8738\n",
      "Epoch 34/50\n",
      "533/533 [==============================] - ETA: 0s - loss: 0.2712 - accuracy: 0.8562 - sensitivity: 0.8488 - specificity: 0.8653 - fmed: 0.8515 - f1: 0.8665\n",
      "Epoch 00034: val_fmed did not improve from 0.84625\n",
      "533/533 [==============================] - 455s 854ms/step - loss: 0.2712 - accuracy: 0.8562 - sensitivity: 0.8488 - specificity: 0.8653 - fmed: 0.8515 - f1: 0.8665 - val_loss: 0.2850 - val_accuracy: 0.8544 - val_sensitivity: 0.8613 - val_specificity: 0.8431 - val_fmed: 0.8428 - val_f1: 0.8685\n",
      "Epoch 35/50\n",
      "533/533 [==============================] - ETA: 0s - loss: 0.2686 - accuracy: 0.8589 - sensitivity: 0.8481 - specificity: 0.8729 - fmed: 0.8553 - f1: 0.8678\n",
      "Epoch 00035: val_fmed improved from 0.84625 to 0.85498, saving model to C:/Users/mwangit/Desktop/projects/datasetss/dataset/train\\nn_best_model_cv_val_fmed_sgd.h5\n",
      "533/533 [==============================] - 461s 865ms/step - loss: 0.2686 - accuracy: 0.8589 - sensitivity: 0.8481 - specificity: 0.8729 - fmed: 0.8553 - f1: 0.8678 - val_loss: 0.2696 - val_accuracy: 0.8645 - val_sensitivity: 0.8903 - val_specificity: 0.8315 - val_fmed: 0.8550 - val_f1: 0.8824\n",
      "Epoch 36/50\n",
      "533/533 [==============================] - ETA: 0s - loss: 0.2657 - accuracy: 0.8588 - sensitivity: 0.8490 - specificity: 0.8674 - fmed: 0.8518 - f1: 0.8660\n",
      "Epoch 00036: val_fmed did not improve from 0.85498\n",
      "533/533 [==============================] - 454s 852ms/step - loss: 0.2657 - accuracy: 0.8588 - sensitivity: 0.8490 - specificity: 0.8674 - fmed: 0.8518 - f1: 0.8660 - val_loss: 0.2751 - val_accuracy: 0.8605 - val_sensitivity: 0.8974 - val_specificity: 0.8148 - val_fmed: 0.8482 - val_f1: 0.8802\n",
      "Epoch 37/50\n",
      "533/533 [==============================] - ETA: 0s - loss: 0.2638 - accuracy: 0.8644 - sensitivity: 0.8541 - specificity: 0.8764 - fmed: 0.8595 - f1: 0.8732\n",
      "Epoch 00037: val_fmed did not improve from 0.85498\n",
      "533/533 [==============================] - 450s 844ms/step - loss: 0.2638 - accuracy: 0.8644 - sensitivity: 0.8541 - specificity: 0.8764 - fmed: 0.8595 - f1: 0.8732 - val_loss: 0.2962 - val_accuracy: 0.8525 - val_sensitivity: 0.8552 - val_specificity: 0.8524 - val_fmed: 0.8496 - val_f1: 0.8684\n",
      "Epoch 38/50\n",
      "533/533 [==============================] - ETA: 0s - loss: 0.2557 - accuracy: 0.8677 - sensitivity: 0.8569 - specificity: 0.8805 - fmed: 0.8634 - f1: 0.8760\n",
      "Epoch 00038: val_fmed improved from 0.85498 to 0.85640, saving model to C:/Users/mwangit/Desktop/projects/datasetss/dataset/train\\nn_best_model_cv_val_fmed_sgd.h5\n",
      "533/533 [==============================] - 446s 836ms/step - loss: 0.2557 - accuracy: 0.8677 - sensitivity: 0.8569 - specificity: 0.8805 - fmed: 0.8634 - f1: 0.8760 - val_loss: 0.2561 - val_accuracy: 0.8697 - val_sensitivity: 0.9133 - val_specificity: 0.8145 - val_fmed: 0.8564 - val_f1: 0.8890\n",
      "Epoch 39/50\n",
      "533/533 [==============================] - ETA: 0s - loss: 0.2555 - accuracy: 0.8659 - sensitivity: 0.8458 - specificity: 0.8904 - fmed: 0.8625 - f1: 0.8723\n",
      "Epoch 00039: val_fmed improved from 0.85640 to 0.86409, saving model to C:/Users/mwangit/Desktop/projects/datasetss/dataset/train\\nn_best_model_cv_val_fmed_sgd.h5\n",
      "533/533 [==============================] - 455s 854ms/step - loss: 0.2555 - accuracy: 0.8659 - sensitivity: 0.8458 - specificity: 0.8904 - fmed: 0.8625 - f1: 0.8723 - val_loss: 0.2551 - val_accuracy: 0.8732 - val_sensitivity: 0.9012 - val_specificity: 0.8388 - val_fmed: 0.8641 - val_f1: 0.8909\n",
      "Epoch 40/50\n",
      "533/533 [==============================] - ETA: 0s - loss: 0.2521 - accuracy: 0.8679 - sensitivity: 0.8449 - specificity: 0.8981 - fmed: 0.8660 - f1: 0.8745\n",
      "Epoch 00040: val_fmed did not improve from 0.86409\n",
      "533/533 [==============================] - 447s 839ms/step - loss: 0.2521 - accuracy: 0.8679 - sensitivity: 0.8449 - specificity: 0.8981 - fmed: 0.8660 - f1: 0.8745 - val_loss: 0.2726 - val_accuracy: 0.8607 - val_sensitivity: 0.9293 - val_specificity: 0.7569 - val_fmed: 0.8245 - val_f1: 0.8818\n",
      "Epoch 41/50\n",
      "533/533 [==============================] - ETA: 0s - loss: 0.2512 - accuracy: 0.8702 - sensitivity: 0.8450 - specificity: 0.9002 - fmed: 0.8664 - f1: 0.8771\n",
      "Epoch 00041: val_fmed did not improve from 0.86409\n",
      "533/533 [==============================] - 447s 839ms/step - loss: 0.2512 - accuracy: 0.8702 - sensitivity: 0.8450 - specificity: 0.9002 - fmed: 0.8664 - f1: 0.8771 - val_loss: 0.2680 - val_accuracy: 0.8633 - val_sensitivity: 0.9235 - val_specificity: 0.7846 - val_fmed: 0.8429 - val_f1: 0.8852\n",
      "Epoch 42/50\n",
      "533/533 [==============================] - ETA: 0s - loss: 0.2476 - accuracy: 0.8710 - sensitivity: 0.8446 - specificity: 0.9034 - fmed: 0.8685 - f1: 0.8766\n",
      "Epoch 00042: val_fmed improved from 0.86409 to 0.86519, saving model to C:/Users/mwangit/Desktop/projects/datasetss/dataset/train\\nn_best_model_cv_val_fmed_sgd.h5\n",
      "533/533 [==============================] - 444s 832ms/step - loss: 0.2476 - accuracy: 0.8710 - sensitivity: 0.8446 - specificity: 0.9034 - fmed: 0.8685 - f1: 0.8766 - val_loss: 0.2650 - val_accuracy: 0.8748 - val_sensitivity: 0.9058 - val_specificity: 0.8364 - val_fmed: 0.8652 - val_f1: 0.8920\n",
      "Epoch 43/50\n",
      "533/533 [==============================] - ETA: 0s - loss: 0.2437 - accuracy: 0.8767 - sensitivity: 0.8499 - specificity: 0.9114 - fmed: 0.8757 - f1: 0.8831\n",
      "Epoch 00043: val_fmed improved from 0.86519 to 0.86874, saving model to C:/Users/mwangit/Desktop/projects/datasetss/dataset/train\\nn_best_model_cv_val_fmed_sgd.h5\n",
      "533/533 [==============================] - 442s 830ms/step - loss: 0.2437 - accuracy: 0.8767 - sensitivity: 0.8499 - specificity: 0.9114 - fmed: 0.8757 - f1: 0.8831 - val_loss: 0.2478 - val_accuracy: 0.8837 - val_sensitivity: 0.9035 - val_specificity: 0.8510 - val_fmed: 0.8687 - val_f1: 0.8962\n"
     ]
    },
    {
     "name": "stdout",
     "output_type": "stream",
     "text": [
      "Epoch 44/50\n",
      "533/533 [==============================] - ETA: 0s - loss: 0.2352 - accuracy: 0.8782 - sensitivity: 0.8486 - specificity: 0.9150 - fmed: 0.8760 - f1: 0.8831\n",
      "Epoch 00044: val_fmed improved from 0.86874 to 0.87741, saving model to C:/Users/mwangit/Desktop/projects/datasetss/dataset/train\\nn_best_model_cv_val_fmed_sgd.h5\n",
      "533/533 [==============================] - 437s 820ms/step - loss: 0.2352 - accuracy: 0.8782 - sensitivity: 0.8486 - specificity: 0.9150 - fmed: 0.8760 - f1: 0.8831 - val_loss: 0.2474 - val_accuracy: 0.8828 - val_sensitivity: 0.8979 - val_specificity: 0.8657 - val_fmed: 0.8774 - val_f1: 0.8965\n",
      "Epoch 45/50\n",
      "533/533 [==============================] - ETA: 0s - loss: 0.2283 - accuracy: 0.8801 - sensitivity: 0.8500 - specificity: 0.9184 - fmed: 0.8783 - f1: 0.8858\n",
      "Epoch 00045: val_fmed improved from 0.87741 to 0.87839, saving model to C:/Users/mwangit/Desktop/projects/datasetss/dataset/train\\nn_best_model_cv_val_fmed_sgd.h5\n",
      "533/533 [==============================] - 436s 818ms/step - loss: 0.2283 - accuracy: 0.8801 - sensitivity: 0.8500 - specificity: 0.9184 - fmed: 0.8783 - f1: 0.8858 - val_loss: 0.2468 - val_accuracy: 0.8859 - val_sensitivity: 0.9083 - val_specificity: 0.8595 - val_fmed: 0.8784 - val_f1: 0.9007\n",
      "Epoch 46/50\n",
      "533/533 [==============================] - ETA: 0s - loss: 0.2389 - accuracy: 0.8761 - sensitivity: 0.8400 - specificity: 0.9228 - fmed: 0.8751 - f1: 0.8804\n",
      "Epoch 00046: val_fmed did not improve from 0.87839\n",
      "533/533 [==============================] - 437s 820ms/step - loss: 0.2389 - accuracy: 0.8761 - sensitivity: 0.8400 - specificity: 0.9228 - fmed: 0.8751 - f1: 0.8804 - val_loss: 0.2786 - val_accuracy: 0.8711 - val_sensitivity: 0.9099 - val_specificity: 0.8241 - val_fmed: 0.8596 - val_f1: 0.8899\n",
      "Epoch 47/50\n",
      "533/533 [==============================] - ETA: 0s - loss: 0.2276 - accuracy: 0.8847 - sensitivity: 0.8553 - specificity: 0.9224 - fmed: 0.8828 - f1: 0.8901\n",
      "Epoch 00047: val_fmed improved from 0.87839 to 0.88483, saving model to C:/Users/mwangit/Desktop/projects/datasetss/dataset/train\\nn_best_model_cv_val_fmed_sgd.h5\n",
      "533/533 [==============================] - 435s 815ms/step - loss: 0.2276 - accuracy: 0.8847 - sensitivity: 0.8553 - specificity: 0.9224 - fmed: 0.8828 - f1: 0.8901 - val_loss: 0.2369 - val_accuracy: 0.8903 - val_sensitivity: 0.9031 - val_specificity: 0.8742 - val_fmed: 0.8848 - val_f1: 0.9036\n",
      "Epoch 48/50\n",
      "533/533 [==============================] - ETA: 0s - loss: 0.2242 - accuracy: 0.8860 - sensitivity: 0.8536 - specificity: 0.9276 - fmed: 0.8849 - f1: 0.8915\n",
      "Epoch 00048: val_fmed improved from 0.88483 to 0.89532, saving model to C:/Users/mwangit/Desktop/projects/datasetss/dataset/train\\nn_best_model_cv_val_fmed_sgd.h5\n",
      "533/533 [==============================] - 454s 852ms/step - loss: 0.2242 - accuracy: 0.8860 - sensitivity: 0.8536 - specificity: 0.9276 - fmed: 0.8849 - f1: 0.8915 - val_loss: 0.2322 - val_accuracy: 0.8967 - val_sensitivity: 0.8999 - val_specificity: 0.8972 - val_fmed: 0.8953 - val_f1: 0.9087\n",
      "Epoch 49/50\n",
      "533/533 [==============================] - ETA: 0s - loss: 0.2211 - accuracy: 0.8852 - sensitivity: 0.8493 - specificity: 0.9313 - fmed: 0.8851 - f1: 0.8899\n",
      "Epoch 00049: val_fmed did not improve from 0.89532\n",
      "533/533 [==============================] - 434s 815ms/step - loss: 0.2211 - accuracy: 0.8852 - sensitivity: 0.8493 - specificity: 0.9313 - fmed: 0.8851 - f1: 0.8899 - val_loss: 0.3510 - val_accuracy: 0.8581 - val_sensitivity: 0.9327 - val_specificity: 0.7589 - val_fmed: 0.8297 - val_f1: 0.8825\n",
      "Epoch 50/50\n",
      "533/533 [==============================] - ETA: 0s - loss: 0.2264 - accuracy: 0.8881 - sensitivity: 0.8522 - specificity: 0.9340 - fmed: 0.8874 - f1: 0.8927\n",
      "Epoch 00050: val_fmed did not improve from 0.89532\n",
      "533/533 [==============================] - 439s 824ms/step - loss: 0.2264 - accuracy: 0.8881 - sensitivity: 0.8522 - specificity: 0.9340 - fmed: 0.8874 - f1: 0.8927 - val_loss: 0.2451 - val_accuracy: 0.8913 - val_sensitivity: 0.9105 - val_specificity: 0.8709 - val_fmed: 0.8860 - val_f1: 0.9049\n"
     ]
    }
   ],
   "source": [
    "batch_size = 32\n",
    "\n",
    "model = generate_model(opt)\n",
    "# model.load_weights(data_dir + '/nn_best_model_cv_val_fmed.h5')\n",
    "history_val_fmed_sgd = model.fit(\n",
    "    X_train,y_train,\n",
    "    validation_split=0.2,\n",
    "    epochs=50,\n",
    "    verbose=1,\n",
    "        callbacks=[\n",
    "          EarlyStopping(monitor='val_fmed', mode=\"max\", verbose=1, patience=9),\n",
    "          ModelCheckpoint(train_path + '/nn_best_model_cv_val_fmed_sgd.h5', monitor='val_fmed', mode=\"max\", verbose=1, save_best_only=True)\n",
    "        ],\n",
    "    )"
   ]
  },
  {
   "cell_type": "markdown",
   "metadata": {},
   "source": [
    "<h1>ANALYZING  MODEL PERFORMANCE</h1>"
   ]
  },
  {
   "cell_type": "code",
   "execution_count": null,
   "metadata": {},
   "outputs": [],
   "source": [
    "history = history_val_fmed_sgd\n",
    "#print(history.history.keys())"
   ]
  },
  {
   "cell_type": "code",
   "execution_count": 67,
   "metadata": {
    "colab": {
     "base_uri": "https://localhost:8080/",
     "height": 295
    },
    "id": "dB-IWih2sClU",
    "outputId": "4f14e4c0-da63-4da3-a261-3e0a537df335"
   },
   "outputs": [
    {
     "data": {
      "image/png": "[encoded data removed]",
      "text/plain": [
       "<Figure size 432x288 with 1 Axes>"
      ]
     },
     "metadata": {
      "needs_background": "light"
     },
     "output_type": "display_data"
    }
   ],
   "source": [
    "# summarize history for sensitivity score\n",
    "plt.plot(history.history['sensitivity'])\n",
    "plt.plot(history.history['val_sensitivity'])\n",
    "plt.title('Model Sensitivity score vs. epochs')\n",
    "plt.ylabel('Sensitivity')\n",
    "plt.xlabel('epochs')\n",
    "plt.legend(['train', 'test'], loc='lower right')\n",
    "plt.show()\n",
    "\n"
   ]
  },
  {
   "cell_type": "code",
   "execution_count": 68,
   "metadata": {
    "colab": {
     "base_uri": "https://localhost:8080/",
     "height": 295
    },
    "id": "dRX4zTRqsETq",
    "outputId": "f9700e5d-ed6b-4704-f79d-996da416c577"
   },
   "outputs": [
    {
     "data": {
      "image/png": "[encoded data removed]",
      "text/plain": [
       "<Figure size 432x288 with 1 Axes>"
      ]
     },
     "metadata": {
      "needs_background": "light"
     },
     "output_type": "display_data"
    }
   ],
   "source": [
    "# summarize history for specificity score\n",
    "plt.plot(history.history['specificity'])\n",
    "plt.plot(history.history['val_specificity'])\n",
    "plt.title('Model Specificity score vs. epochs')\n",
    "plt.ylabel('Specificity')\n",
    "plt.xlabel('epochs')\n",
    "plt.legend(['train', 'test'], loc='lower right')\n",
    "plt.show()\n",
    "\n"
   ]
  },
  {
   "cell_type": "code",
   "execution_count": 69,
   "metadata": {
    "colab": {
     "base_uri": "https://localhost:8080/",
     "height": 295
    },
    "id": "bKdqlqc1sF3L",
    "outputId": "7d37ac38-9999-4e91-bbec-a412b4f2bb5a"
   },
   "outputs": [
    {
     "data": {
      "image/png": "[encoded data removed]",
      "text/plain": [
       "<Figure size 432x288 with 1 Axes>"
      ]
     },
     "metadata": {
      "needs_background": "light"
     },
     "output_type": "display_data"
    }
   ],
   "source": [
    "# summarize history for f1 score\n",
    "plt.plot(history.history['f1'])\n",
    "plt.plot(history.history['val_f1'])\n",
    "plt.title('Model F1 score vs. epochs')\n",
    "plt.ylabel('F1')\n",
    "plt.xlabel('epochs')\n",
    "plt.legend(['train', 'test'], loc='lower right')\n",
    "plt.show()\n",
    "\n"
   ]
  },
  {
   "cell_type": "code",
   "execution_count": 72,
   "metadata": {
    "colab": {
     "base_uri": "https://localhost:8080/",
     "height": 295
    },
    "id": "yQc6fiRLbyVu",
    "outputId": "e5f32a13-4d62-4e99-f26d-807d69f808c2"
   },
   "outputs": [
    {
     "data": {
      "image/png": "[encoded data removed]",
      "text/plain": [
       "<Figure size 432x288 with 1 Axes>"
      ]
     },
     "metadata": {
      "needs_background": "light"
     },
     "output_type": "display_data"
    }
   ],
   "source": [
    "# summarize history for accuracy\n",
    "plt.plot(history.history['accuracy'])\n",
    "plt.plot(history.history['val_accuracy'])\n",
    "plt.title('Model accuracy vs. epochs')\n",
    "plt.ylabel('accuracy')\n",
    "plt.xlabel('epochs')\n",
    "plt.legend(['train', 'test'], loc='lower right')\n",
    "plt.show()\n",
    "\n"
   ]
  },
  {
   "cell_type": "code",
   "execution_count": 73,
   "metadata": {
    "colab": {
     "base_uri": "https://localhost:8080/",
     "height": 295
    },
    "id": "M3tds0YDbyWB",
    "outputId": "6511a87e-e886-449f-d584-c7bb8af2df16"
   },
   "outputs": [
    {
     "data": {
      "image/png": "[encoded data removed]",
      "text/plain": [
       "<Figure size 432x288 with 1 Axes>"
      ]
     },
     "metadata": {
      "needs_background": "light"
     },
     "output_type": "display_data"
    }
   ],
   "source": [
    "# summarize history for loss\n",
    "plt.plot(history.history['loss'])\n",
    "plt.plot(history.history['val_loss'])\n",
    "plt.title('Model loss vs. epochs')\n",
    "plt.ylabel('loss')\n",
    "plt.xlabel('epochs')\n",
    "plt.legend(['train', 'test'], loc='lower right')\n",
    "plt.show()"
   ]
  },
  {
   "cell_type": "code",
   "execution_count": 74,
   "metadata": {},
   "outputs": [],
   "source": [
    "test_gen=ImageDataGenerator()"
   ]
  },
  {
   "cell_type": "code",
   "execution_count": 75,
   "metadata": {
    "colab": {
     "base_uri": "https://localhost:8080/",
     "height": 34
    },
    "id": "lhETlMuVLDVR",
    "outputId": "36aee1de-859f-43ac-9052-bf5133ef8545"
   },
   "outputs": [
    {
     "name": "stdout",
     "output_type": "stream",
     "text": [
      "Found 3290 images belonging to 2 classes.\n"
     ]
    }
   ],
   "source": [
    "test_generator = test_gen.flow_from_directory(\n",
    "        test_path,\n",
    "        target_size=(img_size, img_size),\n",
    "        batch_size=32,\n",
    "        color_mode=\"rgb\",\n",
    "        class_mode='binary',\n",
    "        shuffle=False,\n",
    "        \n",
    ")"
   ]
  },
  {
   "cell_type": "markdown",
   "metadata": {},
   "source": [
    "<h1>LOADING BEST WEIGHT TO MODEL FOR PREDICTION</h1>"
   ]
  },
  {
   "cell_type": "code",
   "execution_count": 76,
   "metadata": {
    "id": "yT83tusyuEaI"
   },
   "outputs": [],
   "source": [
    "model = generate_model(opt=keras.optimizers.SGD(lr=0.01, nesterov=True))"
   ]
  },
  {
   "cell_type": "code",
   "execution_count": 114,
   "metadata": {
    "id": "QPjhlfqduLgT"
   },
   "outputs": [],
   "source": [
    "model.load_weights(train_path + '/nn_best_model_cv_val_fmed_sgd.h5')"
   ]
  },
  {
   "cell_type": "code",
   "execution_count": 117,
   "metadata": {},
   "outputs": [],
   "source": [
    "model.save('3-conv-3-dense-64-featDet-CNN.h5')"
   ]
  },
  {
   "cell_type": "markdown",
   "metadata": {},
   "source": [
    "<h1>EXPLICITLY DEFINING THE PERFORMANCE METRICS USED BECAUSE THE MODEL WAS LOADED FROM THE LOCAL MACHINE</h1>"
   ]
  },
  {
   "cell_type": "code",
   "execution_count": 131,
   "metadata": {},
   "outputs": [
    {
     "name": "stdout",
     "output_type": "stream",
     "text": [
      "WARNING:tensorflow:Compiled the loaded model, but the compiled metrics have yet to be built. `model.compile_metrics` will be empty until you train or evaluate the model.\n"
     ]
    }
   ],
   "source": [
    "#model=tf.keras.models.load_model('C:/Users/mwangit/Desktop/projects/datasetss/dataset/3-conv-3-dense-64-featDet-CNN.keras')\n",
    "direc= 'C:/Users/mwangit/Desktop/projects/datasetss/dataset/3-conv-3-dense-64-featDet-CNN.h5'\n",
    "dependancies={\n",
    "    'sensitivity':sensitivity,\n",
    "    'specificity':specificity,\n",
    "    'fmed':fmed,\n",
    "    'f1':f1\n",
    "}\n",
    "model=tf.keras.models.load_model(\n",
    "    direc, custom_objects=dependancies, compile=True, options=None\n",
    ")"
   ]
  },
  {
   "cell_type": "code",
   "execution_count": 132,
   "metadata": {
    "id": "E0kwQgH5mFWB"
   },
   "outputs": [],
   "source": [
    "probabilities = model.predict(test_generator)\n",
    "y_true = test_generator.classes\n",
    "y_pred = probabilities > 0.5"
   ]
  },
  {
   "cell_type": "markdown",
   "metadata": {},
   "source": [
    "<h2>CONFUSION MATRIX SHOWING RESULTS OF PREDICTIONS</h2>"
   ]
  },
  {
   "cell_type": "code",
   "execution_count": 133,
   "metadata": {
    "colab": {
     "base_uri": "https://localhost:8080/",
     "height": 51
    },
    "id": "wGLGEwoumbJf",
    "outputId": "3f8600b0-5824-4d0c-ece8-f8fe19aa8c6b"
   },
   "outputs": [
    {
     "data": {
      "text/plain": [
       "array([[1650,   10],\n",
       "       [   5, 1625]], dtype=int64)"
      ]
     },
     "execution_count": 133,
     "metadata": {},
     "output_type": "execute_result"
    }
   ],
   "source": [
    "confusion_matrix(y_true, y_pred)"
   ]
  },
  {
   "cell_type": "code",
   "execution_count": 136,
   "metadata": {},
   "outputs": [
    {
     "data": {
      "text/plain": [
       "{'benign': 0, 'malignant': 1}"
      ]
     },
     "execution_count": 136,
     "metadata": {},
     "output_type": "execute_result"
    }
   ],
   "source": [
    "test_generator.class_indices"
   ]
  },
  {
   "cell_type": "markdown",
   "metadata": {},
   "source": [
    "<h2>% OF SPECIFICITY AND SENSITIVITY</h2>"
   ]
  },
  {
   "cell_type": "code",
   "execution_count": 81,
   "metadata": {
    "id": "eQlOt2FD-hcP"
   },
   "outputs": [],
   "source": [
    "tn, fp, fn, tp = confusion_matrix(y_true, y_pred).ravel()"
   ]
  },
  {
   "cell_type": "code",
   "execution_count": 82,
   "metadata": {
    "colab": {
     "base_uri": "https://localhost:8080/",
     "height": 34
    },
    "id": "GDsA0KHK-6g9",
    "outputId": "ed4084b8-7b1b-4564-e15a-214ffbebb421"
   },
   "outputs": [
    {
     "data": {
      "text/plain": [
       "0.9939759036144579"
      ]
     },
     "execution_count": 82,
     "metadata": {},
     "output_type": "execute_result"
    }
   ],
   "source": [
    "specificity = tn / (tn+fp)\n",
    "specificity"
   ]
  },
  {
   "cell_type": "code",
   "execution_count": 83,
   "metadata": {
    "colab": {
     "base_uri": "https://localhost:8080/",
     "height": 34
    },
    "id": "oX2ottDY-8M4",
    "outputId": "caf50a79-aa7a-42e2-8c04-2411992d9b7f"
   },
   "outputs": [
    {
     "data": {
      "text/plain": [
       "0.9969325153374233"
      ]
     },
     "execution_count": 83,
     "metadata": {},
     "output_type": "execute_result"
    }
   ],
   "source": [
    "sensitivity = tp / (tp + fn)\n",
    "sensitivity"
   ]
  },
  {
   "cell_type": "code",
   "execution_count": null,
   "metadata": {},
   "outputs": [],
   "source": []
  },
  {
   "cell_type": "code",
   "execution_count": 89,
   "metadata": {
    "id": "gg6Vcl1S_JZe"
   },
   "outputs": [
    {
     "data": {
      "text/plain": [
       "array([[0.],\n",
       "       [0.],\n",
       "       [0.],\n",
       "       ...,\n",
       "       [1.],\n",
       "       [1.],\n",
       "       [1.]], dtype=float32)"
      ]
     },
     "execution_count": 89,
     "metadata": {},
     "output_type": "execute_result"
    }
   ],
   "source": [
    "np.round(probabilities)"
   ]
  },
  {
   "cell_type": "markdown",
   "metadata": {},
   "source": [
    "<h1>BETTER VISUALIZATION OF THE CONFUSION MATRIX</h1>"
   ]
  },
  {
   "cell_type": "code",
   "execution_count": 108,
   "metadata": {},
   "outputs": [],
   "source": [
    "cm=confusion_matrix(y_true=test_generator.classes,y_pred=probabilities > 0.5)"
   ]
  },
  {
   "cell_type": "code",
   "execution_count": 109,
   "metadata": {},
   "outputs": [],
   "source": [
    "def plot_confusion_matrix(cm, classes,\n",
    "                          normalize=False,\n",
    "                          title='Confusion matrix',\n",
    "                          cmap=plt.cm.Blues):\n",
    "    \"\"\"\n",
    "    This function prints and plots the confusion matrix.\n",
    "    Normalization can be applied by setting `normalize=True`.\n",
    "    \"\"\"\n",
    "    plt.imshow(cm, interpolation='nearest', cmap=cmap)\n",
    "    plt.title(title)\n",
    "    plt.colorbar()\n",
    "    tick_marks = np.arange(len(classes))\n",
    "    plt.xticks(tick_marks, classes, rotation=45)\n",
    "    plt.yticks(tick_marks, classes)\n",
    "\n",
    "    if normalize:\n",
    "        cm = cm.astype('float') / cm.sum(axis=1)[:, np.newaxis]\n",
    "        print(\"Normalized confusion matrix\")\n",
    "    else:\n",
    "        print('Confusion matrix, without normalization')\n",
    "\n",
    "    print(cm)\n",
    "\n",
    "    thresh = cm.max() / 2.\n",
    "    for i, j in itertools.product(range(cm.shape[0]), range(cm.shape[1])):\n",
    "        plt.text(j, i, cm[i, j],\n",
    "            horizontalalignment=\"center\",\n",
    "            color=\"white\" if cm[i, j] > thresh else \"black\")\n",
    "\n",
    "    plt.tight_layout()\n",
    "    plt.ylabel('True label')\n",
    "    plt.xlabel('Predicted label')"
   ]
  },
  {
   "cell_type": "code",
   "execution_count": 110,
   "metadata": {},
   "outputs": [
    {
     "name": "stdout",
     "output_type": "stream",
     "text": [
      "Confusion matrix, without normalization\n",
      "[[1650   10]\n",
      " [   5 1625]]\n"
     ]
    },
    {
     "data": {
      "image/png": "[encoded data removed]",
      "text/plain": [
       "<Figure size 432x288 with 2 Axes>"
      ]
     },
     "metadata": {
      "needs_background": "light"
     },
     "output_type": "display_data"
    }
   ],
   "source": [
    "cm_plot_labels=['benign','malignant']\n",
    "plot_confusion_matrix(cm=cm, classes=cm_plot_labels, title='Confusion Matrix')"
   ]
  },
  {
   "cell_type": "markdown",
   "metadata": {},
   "source": [
    "<h1>The model using SDG optimizer performed better the model using Adam optimizer having a better specificity and sensitivity percentage and predicting the test data more accurately</h1>"
   ]
  },
  {
   "cell_type": "code",
   "execution_count": null,
   "metadata": {},
   "outputs": [],
   "source": []
  }
 ],
 "metadata": {
  "accelerator": "GPU",
  "colab": {
   "collapsed_sections": [],
   "name": "tumor_type_detection.ipynb",
   "provenance": []
  },
  "kernelspec": {
   "display_name": "Python 3",
   "language": "python",
   "name": "python3"
  },
  "language_info": {
   "codemirror_mode": {
    "name": "ipython",
    "version": 3
   },
   "file_extension": ".py",
   "mimetype": "text/x-python",
   "name": "python",
   "nbconvert_exporter": "python",
   "pygments_lexer": "ipython3",
   "version": "3.8.3"
  }
 },
 "nbformat": 4,
 "nbformat_minor": 1
}
